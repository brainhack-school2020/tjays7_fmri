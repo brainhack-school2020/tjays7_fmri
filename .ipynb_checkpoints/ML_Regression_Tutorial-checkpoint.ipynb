{
 "cells": [
  {
   "cell_type": "markdown",
   "metadata": {
    "collapsed": true,
    "slideshow": {
     "slide_type": "slide"
    }
   },
   "source": [
    "# Machine learning to predict age from rs-fmri\n",
    "\n",
    "Goals:\n",
    "* Extract data from several rs-fmri images\n",
    "* Use that data as features in a machine learning model to predict age. \n",
    "* Integrate what we've learned in the previous lecture to build a minimally biased model and test it on a left out sample.\n",
    "\n",
    "Link to slides: https://github.com/neurodatascience/course-materials-2020/blob/master/lectures/14-may/03-intro-to-machine-learning/IntroML_BrainHackSchool.pdf"
   ]
  },
  {
   "cell_type": "code",
   "execution_count": 1,
   "metadata": {
    "slideshow": {
     "slide_type": "fragment"
    }
   },
   "outputs": [],
   "source": [
    "%matplotlib inline"
   ]
  },
  {
   "cell_type": "markdown",
   "metadata": {
    "slideshow": {
     "slide_type": "slide"
    }
   },
   "source": [
    "## Load the data\n",
    "\n",
    "<img src=\"Imgs/SampFeat.png\" alt=\"terms\" width=\"300\"/>\n"
   ]
  },
  {
   "cell_type": "code",
   "execution_count": 2,
   "metadata": {
    "slideshow": {
     "slide_type": "slide"
    }
   },
   "outputs": [],
   "source": [
    "# Lets fetch the data!\n",
    "from nilearn import datasets\n",
    "data = datasets.fetch_development_fmri()"
   ]
  },
  {
   "cell_type": "markdown",
   "metadata": {
    "slideshow": {
     "slide_type": "fragment"
    }
   },
   "source": [
    "How many individual subjects do we have?"
   ]
  },
  {
   "cell_type": "code",
   "execution_count": 3,
   "metadata": {
    "slideshow": {
     "slide_type": "fragment"
    }
   },
   "outputs": [
    {
     "data": {
      "text/plain": [
       "155"
      ]
     },
     "execution_count": 3,
     "metadata": {},
     "output_type": "execute_result"
    }
   ],
   "source": [
    "len(data.func)"
   ]
  },
  {
   "cell_type": "code",
   "execution_count": 4,
   "metadata": {},
   "outputs": [
    {
     "data": {
      "text/plain": [
       "array([('sub-pixar123', 27.06      , 'Adult', 'adult', 'F', 'R'),\n",
       "       ('sub-pixar124', 33.44      , 'Adult', 'adult', 'M', 'R'),\n",
       "       ('sub-pixar125', 31.        , 'Adult', 'adult', 'M', 'R'),\n",
       "       ('sub-pixar126', 19.        , 'Adult', 'adult', 'F', 'R'),\n",
       "       ('sub-pixar127', 23.        , 'Adult', 'adult', 'F', 'R'),\n",
       "       ('sub-pixar128', 27.        , 'Adult', 'adult', 'M', 'R'),\n",
       "       ('sub-pixar129', 23.        , 'Adult', 'adult', 'F', 'R'),\n",
       "       ('sub-pixar130', 21.        , 'Adult', 'adult', 'F', 'R'),\n",
       "       ('sub-pixar131', 39.        , 'Adult', 'adult', 'M', 'R'),\n",
       "       ('sub-pixar132', 22.        , 'Adult', 'adult', 'F', 'R'),\n",
       "       ('sub-pixar133', 21.        , 'Adult', 'adult', 'M', 'R'),\n",
       "       ('sub-pixar134', 25.        , 'Adult', 'adult', 'M', 'R'),\n",
       "       ('sub-pixar135', 21.        , 'Adult', 'adult', 'F', 'R'),\n",
       "       ('sub-pixar136', 25.        , 'Adult', 'adult', 'F', 'R'),\n",
       "       ('sub-pixar137', 34.        , 'Adult', 'adult', 'F', 'R'),\n",
       "       ('sub-pixar138', 28.        , 'Adult', 'adult', 'F', 'R'),\n",
       "       ('sub-pixar139', 18.        , 'Adult', 'adult', 'F', 'R'),\n",
       "       ('sub-pixar140', 19.        , 'Adult', 'adult', 'M', 'R'),\n",
       "       ('sub-pixar141', 22.        , 'Adult', 'adult', 'F', 'R'),\n",
       "       ('sub-pixar142', 33.        , 'Adult', 'adult', 'F', 'R'),\n",
       "       ('sub-pixar143', 22.        , 'Adult', 'adult', 'F', 'R'),\n",
       "       ('sub-pixar144', 20.        , 'Adult', 'adult', 'F', 'R'),\n",
       "       ('sub-pixar145', 22.        , 'Adult', 'adult', 'F', 'R'),\n",
       "       ('sub-pixar146', 18.        , 'Adult', 'adult', 'M', 'R'),\n",
       "       ('sub-pixar147', 21.        , 'Adult', 'adult', 'M', 'L'),\n",
       "       ('sub-pixar148', 31.        , 'Adult', 'adult', 'M', 'R'),\n",
       "       ('sub-pixar149', 24.        , 'Adult', 'adult', 'F', 'R'),\n",
       "       ('sub-pixar150', 19.        , 'Adult', 'adult', 'F', 'R'),\n",
       "       ('sub-pixar151', 23.        , 'Adult', 'adult', 'F', 'R'),\n",
       "       ('sub-pixar152', 21.        , 'Adult', 'adult', 'F', 'R'),\n",
       "       ('sub-pixar153', 30.        , 'Adult', 'adult', 'M', 'R'),\n",
       "       ('sub-pixar154', 29.        , 'Adult', 'adult', 'M', 'R'),\n",
       "       ('sub-pixar155', 26.        , 'Adult', 'adult', 'M', 'R'),\n",
       "       ('sub-pixar001',  4.77481177, '4yo', 'child', 'M', 'R'),\n",
       "       ('sub-pixar002',  4.8569473 , '4yo', 'child', 'F', 'R'),\n",
       "       ('sub-pixar003',  4.15331964, '4yo', 'child', 'F', 'R'),\n",
       "       ('sub-pixar004',  4.47364819, '4yo', 'child', 'F', 'R'),\n",
       "       ('sub-pixar005',  4.83778234, '4yo', 'child', 'F', 'R'),\n",
       "       ('sub-pixar006',  3.60574949, '3yo', 'child', 'F', 'R'),\n",
       "       ('sub-pixar007',  4.24914442, '4yo', 'child', 'M', 'R'),\n",
       "       ('sub-pixar008',  3.52908966, '3yo', 'child', 'F', 'R'),\n",
       "       ('sub-pixar009',  3.51813826, '3yo', 'child', 'M', 'R'),\n",
       "       ('sub-pixar010',  4.35865845, '4yo', 'child', 'M', 'R'),\n",
       "       ('sub-pixar011',  3.9835729 , '3yo', 'child', 'F', 'R'),\n",
       "       ('sub-pixar012',  3.78644764, '3yo', 'child', 'F', 'R'),\n",
       "       ('sub-pixar013',  3.84941821, '3yo', 'child', 'M', 'R'),\n",
       "       ('sub-pixar014',  3.63586585, '3yo', 'child', 'M', 'R'),\n",
       "       ('sub-pixar015',  4.76659822, '4yo', 'child', 'F', 'R'),\n",
       "       ('sub-pixar016',  3.62217659, '3yo', 'child', 'M', 'R'),\n",
       "       ('sub-pixar017',  3.61396304, '3yo', 'child', 'F', 'L'),\n",
       "       ('sub-pixar018',  4.57768652, '4yo', 'child', 'M', 'R'),\n",
       "       ('sub-pixar019',  3.96988364, '3yo', 'child', 'M', 'R'),\n",
       "       ('sub-pixar020',  3.59479808, '3yo', 'child', 'M', 'L'),\n",
       "       ('sub-pixar021',  4.36413416, '4yo', 'child', 'F', 'R'),\n",
       "       ('sub-pixar022',  3.8220397 , '3yo', 'child', 'F', 'R'),\n",
       "       ('sub-pixar023',  3.86584531, '3yo', 'child', 'F', 'R'),\n",
       "       ('sub-pixar024',  4.05749487, '4yo', 'child', 'M', 'R'),\n",
       "       ('sub-pixar025',  3.93155373, '3yo', 'child', 'F', 'R'),\n",
       "       ('sub-pixar026',  3.93155373, '3yo', 'child', 'F', 'R'),\n",
       "       ('sub-pixar027',  3.9890486 , '3yo', 'child', 'F', 'R'),\n",
       "       ('sub-pixar028',  3.53456537, '3yo', 'child', 'M', 'R'),\n",
       "       ('sub-pixar029',  4.30937714, '4yo', 'child', 'M', 'Ambi'),\n",
       "       ('sub-pixar030',  4.15605749, '4yo', 'child', 'F', 'R'),\n",
       "       ('sub-pixar031',  4.08487337, '4yo', 'child', 'F', 'R'),\n",
       "       ('sub-pixar032',  5.43      , '5yo', 'child', 'F', 'R'),\n",
       "       ('sub-pixar033',  5.81      , '5yo', 'child', 'M', 'R'),\n",
       "       ('sub-pixar034',  5.99      , '5yo', 'child', 'M', 'R'),\n",
       "       ('sub-pixar035',  5.99      , '5yo', 'child', 'M', 'R'),\n",
       "       ('sub-pixar036',  5.39      , '5yo', 'child', 'F', 'R'),\n",
       "       ('sub-pixar037',  5.52      , '5yo', 'child', 'M', 'R'),\n",
       "       ('sub-pixar038',  5.55      , '5yo', 'child', 'F', 'R'),\n",
       "       ('sub-pixar039',  5.54      , '5yo', 'child', 'M', 'R'),\n",
       "       ('sub-pixar040',  5.29      , '5yo', 'child', 'M', 'L'),\n",
       "       ('sub-pixar041',  5.49      , '5yo', 'child', 'M', 'R'),\n",
       "       ('sub-pixar042',  5.01      , '5yo', 'child', 'F', 'L'),\n",
       "       ('sub-pixar043',  5.79      , '5yo', 'child', 'M', 'Ambi'),\n",
       "       ('sub-pixar044',  5.76      , '5yo', 'child', 'M', 'R'),\n",
       "       ('sub-pixar045',  5.18      , '5yo', 'child', 'M', 'L'),\n",
       "       ('sub-pixar046',  5.97      , '5yo', 'child', 'F', 'R'),\n",
       "       ('sub-pixar047',  5.47      , '5yo', 'child', 'F', 'R'),\n",
       "       ('sub-pixar048',  5.99      , '5yo', 'child', 'M', 'R'),\n",
       "       ('sub-pixar049',  5.23      , '5yo', 'child', 'M', 'R'),\n",
       "       ('sub-pixar050',  5.31      , '5yo', 'child', 'F', 'R'),\n",
       "       ('sub-pixar051',  5.38      , '5yo', 'child', 'M', 'R'),\n",
       "       ('sub-pixar052',  5.46      , '5yo', 'child', 'F', 'R'),\n",
       "       ('sub-pixar053',  5.46      , '5yo', 'child', 'M', 'R'),\n",
       "       ('sub-pixar054',  5.99      , '5yo', 'child', 'M', 'R'),\n",
       "       ('sub-pixar055',  5.82      , '5yo', 'child', 'M', 'L'),\n",
       "       ('sub-pixar056',  5.26      , '5yo', 'child', 'F', 'R'),\n",
       "       ('sub-pixar057',  5.66      , '5yo', 'child', 'F', 'R'),\n",
       "       ('sub-pixar058',  5.13      , '5yo', 'child', 'F', 'R'),\n",
       "       ('sub-pixar059',  5.51      , '5yo', 'child', 'F', 'L'),\n",
       "       ('sub-pixar060',  5.12      , '5yo', 'child', 'F', 'R'),\n",
       "       ('sub-pixar061',  5.56      , '5yo', 'child', 'F', 'Ambi'),\n",
       "       ('sub-pixar062',  5.46      , '5yo', 'child', 'F', 'R'),\n",
       "       ('sub-pixar063',  5.33      , '5yo', 'child', 'M', 'L'),\n",
       "       ('sub-pixar064',  5.44      , '5yo', 'child', 'M', 'R'),\n",
       "       ('sub-pixar065',  5.02      , '5yo', 'child', 'F', 'R'),\n",
       "       ('sub-pixar066',  7.        , '7yo', 'child', 'F', 'R'),\n",
       "       ('sub-pixar067',  7.92      , '7yo', 'child', 'F', 'R'),\n",
       "       ('sub-pixar068',  7.92      , '7yo', 'child', 'F', 'R'),\n",
       "       ('sub-pixar069',  7.96      , '7yo', 'child', 'M', 'R'),\n",
       "       ('sub-pixar070',  7.15      , '7yo', 'child', 'F', 'R'),\n",
       "       ('sub-pixar071',  7.13      , '7yo', 'child', 'M', 'R'),\n",
       "       ('sub-pixar072',  7.91      , '7yo', 'child', 'F', 'R'),\n",
       "       ('sub-pixar073',  7.95      , '7yo', 'child', 'F', 'R'),\n",
       "       ('sub-pixar074',  7.95      , '7yo', 'child', 'M', 'R'),\n",
       "       ('sub-pixar075',  7.83      , '7yo', 'child', 'M', 'R'),\n",
       "       ('sub-pixar076',  7.06      , '7yo', 'child', 'M', 'R'),\n",
       "       ('sub-pixar077',  9.45      , '8-12yo', 'child', 'M', 'R'),\n",
       "       ('sub-pixar078',  8.6       , '8-12yo', 'child', 'F', 'R'),\n",
       "       ('sub-pixar079',  7.07      , '7yo', 'child', 'M', 'R'),\n",
       "       ('sub-pixar080',  7.91      , '7yo', 'child', 'M', 'R'),\n",
       "       ('sub-pixar081',  7.91      , '7yo', 'child', 'F', 'R'),\n",
       "       ('sub-pixar082',  9.76      , '8-12yo', 'child', 'F', 'R'),\n",
       "       ('sub-pixar083',  7.28      , '7yo', 'child', 'F', 'R'),\n",
       "       ('sub-pixar084',  7.1       , '7yo', 'child', 'M', 'R'),\n",
       "       ('sub-pixar085',  9.48      , '8-12yo', 'child', 'F', 'R'),\n",
       "       ('sub-pixar086',  7.46      , '7yo', 'child', 'F', 'R'),\n",
       "       ('sub-pixar087',  9.96      , '8-12yo', 'child', 'M', 'R'),\n",
       "       ('sub-pixar088',  7.71      , '7yo', 'child', 'M', 'R'),\n",
       "       ('sub-pixar089',  8.02      , '8-12yo', 'child', 'M', 'R'),\n",
       "       ('sub-pixar090',  8.15      , '8-12yo', 'child', 'M', 'R'),\n",
       "       ('sub-pixar091',  9.7       , '8-12yo', 'child', 'M', 'R'),\n",
       "       ('sub-pixar092',  8.48      , '8-12yo', 'child', 'M', 'R'),\n",
       "       ('sub-pixar093',  8.59      , '8-12yo', 'child', 'F', 'R'),\n",
       "       ('sub-pixar094',  9.52      , '8-12yo', 'child', 'F', 'R'),\n",
       "       ('sub-pixar095',  9.94      , '8-12yo', 'child', 'F', 'R'),\n",
       "       ('sub-pixar096',  7.13      , '7yo', 'child', 'F', 'R'),\n",
       "       ('sub-pixar097',  8.87      , '8-12yo', 'child', 'F', 'L'),\n",
       "       ('sub-pixar098', 10.19      , '8-12yo', 'child', 'M', 'R'),\n",
       "       ('sub-pixar099',  7.66      , '7yo', 'child', 'M', 'R'),\n",
       "       ('sub-pixar100',  9.59      , '8-12yo', 'child', 'M', 'R'),\n",
       "       ('sub-pixar101', 11.17      , '8-12yo', 'child', 'M', 'R'),\n",
       "       ('sub-pixar102', 11.17      , '8-12yo', 'child', 'F', 'R'),\n",
       "       ('sub-pixar103', 10.55      , '8-12yo', 'child', 'M', 'R'),\n",
       "       ('sub-pixar104',  8.57      , '8-12yo', 'child', 'F', 'R'),\n",
       "       ('sub-pixar105',  8.66      , '8-12yo', 'child', 'M', 'R'),\n",
       "       ('sub-pixar106',  8.02      , '8-12yo', 'child', 'M', 'R'),\n",
       "       ('sub-pixar107', 11.51      , '8-12yo', 'child', 'M', 'R'),\n",
       "       ('sub-pixar108', 10.7       , '8-12yo', 'child', 'F', 'R'),\n",
       "       ('sub-pixar109', 10.38      , '8-12yo', 'child', 'F', 'R'),\n",
       "       ('sub-pixar110', 10.78      , '8-12yo', 'child', 'F', 'R'),\n",
       "       ('sub-pixar111',  8.62      , '8-12yo', 'child', 'F', 'R'),\n",
       "       ('sub-pixar112', 12.05      , '8-12yo', 'child', 'M', 'R'),\n",
       "       ('sub-pixar113', 10.29      , '8-12yo', 'child', 'F', 'R'),\n",
       "       ('sub-pixar114',  7.43      , '7yo', 'child', 'M', 'R'),\n",
       "       ('sub-pixar115',  9.68      , '8-12yo', 'child', 'F', 'R'),\n",
       "       ('sub-pixar116',  7.68      , '7yo', 'child', 'F', 'R'),\n",
       "       ('sub-pixar117', 12.3       , '8-12yo', 'child', 'M', 'R'),\n",
       "       ('sub-pixar118', 10.5       , '8-12yo', 'child', 'F', 'R'),\n",
       "       ('sub-pixar119',  8.62      , '8-12yo', 'child', 'F', 'R'),\n",
       "       ('sub-pixar120', 11.48      , '8-12yo', 'child', 'F', 'R'),\n",
       "       ('sub-pixar121',  8.76      , '8-12yo', 'child', 'F', 'R'),\n",
       "       ('sub-pixar122',  7.21      , '7yo', 'child', 'M', 'R')],\n",
       "      dtype=[('participant_id', '<U12'), ('Age', '<f8'), ('AgeGroup', '<U6'), ('Child_Adult', '<U5'), ('Gender', '<U4'), ('Handedness', '<U4')])"
      ]
     },
     "execution_count": 4,
     "metadata": {},
     "output_type": "execute_result"
    }
   ],
   "source": [
    "data.phenotypic"
   ]
  },
  {
   "cell_type": "markdown",
   "metadata": {
    "slideshow": {
     "slide_type": "slide"
    }
   },
   "source": [
    "## Extract features\n",
    "\n",
    "![feat_xtrct](https://ars.els-cdn.com/content/image/1-s2.0-S1053811919301594-gr1.jpg)"
   ]
  },
  {
   "cell_type": "markdown",
   "metadata": {
    "slideshow": {
     "slide_type": "subslide"
    }
   },
   "source": [
    "In order to do our machine learning, we will need to extract feature from our rs-fmri images. Specifically: \n",
    "* Extract signals from a brain parcellation \n",
    "* Compute a correlation matrix, representing regional coactivation between regions.\n",
    "\n",
    "We will practice on one subject first, then we'll extract data for all subjects"
   ]
  },
  {
   "cell_type": "markdown",
   "metadata": {
    "slideshow": {
     "slide_type": "slide"
    }
   },
   "source": [
    "#### Retrieve the atlas for extracting features and an example subject"
   ]
  },
  {
   "cell_type": "markdown",
   "metadata": {
    "slideshow": {
     "slide_type": "subslide"
    }
   },
   "source": [
    "Since we're using rs-fmri data, it makes sense to use an atlas defined using rs-fmri data\n"
   ]
  },
  {
   "cell_type": "markdown",
   "metadata": {
    "slideshow": {
     "slide_type": "skip"
    }
   },
   "source": [
    "This paper has many excellent insights about what kind of atlas to use for an rs-fmri machine learning task. See in particular Figure 5.\n",
    "https://www.sciencedirect.com/science/article/pii/S1053811919301594?via%3Dihub"
   ]
  },
  {
   "cell_type": "markdown",
   "metadata": {
    "slideshow": {
     "slide_type": "fragment"
    }
   },
   "source": [
    "Let's use the MIST atlas (Urchs et al. 2019) \n",
    "* Created here in Montreal using the BASC method (Bellec et al., 2015). \n",
    "* Has multiple resolutions, for larger networks or finer-grained ROIs. \n",
    "\n",
    "Let's use a 64-ROI atlas to allow some detail, but to ultimately keep our connectivity matrices manageable\n",
    "\n",
    "Here is a link to the MIST paper: https://mniopenresearch.org/articles/1-3"
   ]
  },
  {
   "cell_type": "code",
   "execution_count": 8,
   "metadata": {
    "slideshow": {
     "slide_type": "slide"
    }
   },
   "outputs": [
    {
     "name": "stdout",
     "output_type": "stream",
     "text": [
      "Atlas ROIs are located in nifti image (4D) at: /home/tjays/nilearn_data/basc_multiscale_2015/template_cambridge_basc_multiscale_nii_sym/template_cambridge_basc_multiscale_sym_scale064.nii.gz\n"
     ]
    }
   ],
   "source": [
    "parcellations = datasets.fetch_atlas_basc_multiscale_2015(version='sym')\n",
    "atlas_filename = parcellations.scale064\n",
    "\n",
    "print('Atlas ROIs are located in nifti image (4D) at: %s' %\n",
    "       atlas_filename)"
   ]
  },
  {
   "cell_type": "markdown",
   "metadata": {
    "slideshow": {
     "slide_type": "fragment"
    }
   },
   "source": [
    "Let's have a look at that atlas"
   ]
  },
  {
   "cell_type": "code",
   "execution_count": 9,
   "metadata": {
    "slideshow": {
     "slide_type": "subslide"
    }
   },
   "outputs": [
    {
     "data": {
      "text/plain": [
       "<nilearn.plotting.displays.OrthoSlicer at 0x7fff3ebc6710>"
      ]
     },
     "execution_count": 9,
     "metadata": {},
     "output_type": "execute_result"
    },
    {
     "data": {
      "image/png": "[encoded data removed]",
      "text/plain": [
       "<Figure size 475.2x187.2 with 4 Axes>"
      ]
     },
     "metadata": {},
     "output_type": "display_data"
    }
   ],
   "source": [
    "from nilearn import plotting\n",
    "\n",
    "plotting.plot_roi(atlas_filename, draw_cross=False)"
   ]
  },
  {
   "cell_type": "markdown",
   "metadata": {
    "slideshow": {
     "slide_type": "slide"
    }
   },
   "source": [
    "Great, let's load an example 4D fmri time-series for one subject"
   ]
  },
  {
   "cell_type": "code",
   "execution_count": 10,
   "metadata": {
    "slideshow": {
     "slide_type": "fragment"
    }
   },
   "outputs": [
    {
     "name": "stdout",
     "output_type": "stream",
     "text": [
      "/home/tjays/nilearn_data/development_fmri/development_fmri/sub-pixar123_task-pixar_space-MNI152NLin2009cAsym_desc-preproc_bold.nii.gz\n"
     ]
    }
   ],
   "source": [
    "fmri_filenames = data.func[0]\n",
    "print(fmri_filenames)"
   ]
  },
  {
   "cell_type": "markdown",
   "metadata": {
    "slideshow": {
     "slide_type": "subslide"
    }
   },
   "source": [
    "Let's have a look at the image! Because it is a 4D image, we can only look at one slice at a time. Or, better yet, let's look at an average image!"
   ]
  },
  {
   "cell_type": "code",
   "execution_count": 11,
   "metadata": {
    "slideshow": {
     "slide_type": "subslide"
    }
   },
   "outputs": [
    {
     "data": {
      "text/plain": [
       "<nilearn.plotting.displays.OrthoSlicer at 0x7fff3e3a4c10>"
      ]
     },
     "execution_count": 11,
     "metadata": {},
     "output_type": "execute_result"
    },
    {
     "data": {
      "image/png": "[encoded data removed]",
      "text/plain": [
       "<Figure size 525.6x187.2 with 5 Axes>"
      ]
     },
     "metadata": {},
     "output_type": "display_data"
    }
   ],
   "source": [
    "from nilearn import image \n",
    "\n",
    "averaged_Img = image.mean_img(fmri_filenames)\n",
    "plotting.plot_stat_map(averaged_Img)"
   ]
  },
  {
   "cell_type": "markdown",
   "metadata": {
    "slideshow": {
     "slide_type": "slide"
    }
   },
   "source": [
    "#### Extract signals on a parcellation defined by labels\n",
    "Using the NiftiLabelsMasker\n",
    "\n",
    "So we've loaded our atlas and 4D data for a single subject. Let's practice extracting features!\n"
   ]
  },
  {
   "cell_type": "code",
   "execution_count": 12,
   "metadata": {
    "slideshow": {
     "slide_type": "subslide"
    }
   },
   "outputs": [
    {
     "name": "stdout",
     "output_type": "stream",
     "text": [
      "[NiftiLabelsMasker.fit_transform] loading data from /home/tjays/nilearn_data/basc_multiscale_2015/template_cambridge_basc_multiscale_nii_sym/template_cambridge_basc_multiscale_sym_scale064.nii.gz\n",
      "Resampling labels\n"
     ]
    }
   ],
   "source": [
    "from nilearn.input_data import NiftiLabelsMasker\n",
    "\n",
    "masker = NiftiLabelsMasker(labels_img=atlas_filename, \n",
    "                           standardize=True, \n",
    "                           memory='nilearn_cache', \n",
    "                           verbose=1)\n",
    "\n",
    "# Here we go from nifti files to the signal time series in a \n",
    "# numpy array. Note how we give confounds to be regressed out \n",
    "# during signal extraction\n",
    "conf = data.confounds[0]\n",
    "time_series = masker.fit_transform(fmri_filenames, confounds=conf)"
   ]
  },
  {
   "cell_type": "markdown",
   "metadata": {
    "slideshow": {
     "slide_type": "subslide"
    }
   },
   "source": [
    "So what did we just create here?"
   ]
  },
  {
   "cell_type": "code",
   "execution_count": 13,
   "metadata": {
    "slideshow": {
     "slide_type": "fragment"
    }
   },
   "outputs": [
    {
     "data": {
      "text/plain": [
       "numpy.ndarray"
      ]
     },
     "execution_count": 13,
     "metadata": {},
     "output_type": "execute_result"
    }
   ],
   "source": [
    "type(time_series)"
   ]
  },
  {
   "cell_type": "code",
   "execution_count": 14,
   "metadata": {
    "slideshow": {
     "slide_type": "fragment"
    }
   },
   "outputs": [
    {
     "data": {
      "text/plain": [
       "(168, 64)"
      ]
     },
     "execution_count": 14,
     "metadata": {},
     "output_type": "execute_result"
    }
   ],
   "source": [
    "time_series.shape"
   ]
  },
  {
   "cell_type": "markdown",
   "metadata": {
    "slideshow": {
     "slide_type": "subslide"
    }
   },
   "source": [
    "What are these \"confounds\" and how are they used? "
   ]
  },
  {
   "cell_type": "code",
   "execution_count": 15,
   "metadata": {
    "slideshow": {
     "slide_type": "subslide"
    }
   },
   "outputs": [
    {
     "data": {
      "text/html": [
       "<div>\n",
       "<style scoped>\n",
       "    .dataframe tbody tr th:only-of-type {\n",
       "        vertical-align: middle;\n",
       "    }\n",
       "\n",
       "    .dataframe tbody tr th {\n",
       "        vertical-align: top;\n",
       "    }\n",
       "\n",
       "    .dataframe thead th {\n",
       "        text-align: right;\n",
       "    }\n",
       "</style>\n",
       "<table border=\"1\" class=\"dataframe\">\n",
       "  <thead>\n",
       "    <tr style=\"text-align: right;\">\n",
       "      <th></th>\n",
       "      <th>trans_x</th>\n",
       "      <th>trans_y</th>\n",
       "      <th>trans_z</th>\n",
       "      <th>rot_x</th>\n",
       "      <th>rot_y</th>\n",
       "      <th>rot_z</th>\n",
       "      <th>framewise_displacement</th>\n",
       "      <th>a_comp_cor_00</th>\n",
       "      <th>a_comp_cor_01</th>\n",
       "      <th>a_comp_cor_02</th>\n",
       "      <th>a_comp_cor_03</th>\n",
       "      <th>a_comp_cor_04</th>\n",
       "      <th>a_comp_cor_05</th>\n",
       "      <th>csf</th>\n",
       "      <th>white_matter</th>\n",
       "    </tr>\n",
       "  </thead>\n",
       "  <tbody>\n",
       "    <tr>\n",
       "      <th>0</th>\n",
       "      <td>-0.000233</td>\n",
       "      <td>-0.076885</td>\n",
       "      <td>0.062321</td>\n",
       "      <td>0.000732</td>\n",
       "      <td>0.000352</td>\n",
       "      <td>0.000841</td>\n",
       "      <td>0.000000</td>\n",
       "      <td>-0.099871</td>\n",
       "      <td>-0.007286</td>\n",
       "      <td>0.001780</td>\n",
       "      <td>-0.008073</td>\n",
       "      <td>0.030945</td>\n",
       "      <td>-0.022393</td>\n",
       "      <td>439.699409</td>\n",
       "      <td>451.645460</td>\n",
       "    </tr>\n",
       "    <tr>\n",
       "      <th>1</th>\n",
       "      <td>-0.006187</td>\n",
       "      <td>-0.078395</td>\n",
       "      <td>0.056773</td>\n",
       "      <td>0.000112</td>\n",
       "      <td>0.000187</td>\n",
       "      <td>0.000775</td>\n",
       "      <td>0.055543</td>\n",
       "      <td>-0.019437</td>\n",
       "      <td>-0.042308</td>\n",
       "      <td>0.016735</td>\n",
       "      <td>-0.012099</td>\n",
       "      <td>0.088777</td>\n",
       "      <td>-0.006171</td>\n",
       "      <td>439.471640</td>\n",
       "      <td>451.103437</td>\n",
       "    </tr>\n",
       "    <tr>\n",
       "      <th>2</th>\n",
       "      <td>-0.000227</td>\n",
       "      <td>-0.069893</td>\n",
       "      <td>0.083102</td>\n",
       "      <td>0.000143</td>\n",
       "      <td>0.000364</td>\n",
       "      <td>0.000716</td>\n",
       "      <td>0.054112</td>\n",
       "      <td>0.009096</td>\n",
       "      <td>-0.053206</td>\n",
       "      <td>-0.030388</td>\n",
       "      <td>-0.052925</td>\n",
       "      <td>0.019922</td>\n",
       "      <td>0.014776</td>\n",
       "      <td>439.744498</td>\n",
       "      <td>450.981505</td>\n",
       "    </tr>\n",
       "    <tr>\n",
       "      <th>3</th>\n",
       "      <td>0.002492</td>\n",
       "      <td>-0.074707</td>\n",
       "      <td>0.060337</td>\n",
       "      <td>0.000202</td>\n",
       "      <td>0.000818</td>\n",
       "      <td>0.000681</td>\n",
       "      <td>0.057667</td>\n",
       "      <td>0.060195</td>\n",
       "      <td>-0.083195</td>\n",
       "      <td>0.003578</td>\n",
       "      <td>-0.037011</td>\n",
       "      <td>0.026946</td>\n",
       "      <td>0.002505</td>\n",
       "      <td>440.772620</td>\n",
       "      <td>450.600261</td>\n",
       "    </tr>\n",
       "    <tr>\n",
       "      <th>4</th>\n",
       "      <td>-0.000226</td>\n",
       "      <td>-0.084204</td>\n",
       "      <td>0.085079</td>\n",
       "      <td>0.000183</td>\n",
       "      <td>0.000548</td>\n",
       "      <td>0.000682</td>\n",
       "      <td>0.051438</td>\n",
       "      <td>0.049833</td>\n",
       "      <td>-0.089819</td>\n",
       "      <td>-0.020825</td>\n",
       "      <td>-0.079329</td>\n",
       "      <td>0.008516</td>\n",
       "      <td>-0.000938</td>\n",
       "      <td>440.115442</td>\n",
       "      <td>450.678959</td>\n",
       "    </tr>\n",
       "  </tbody>\n",
       "</table>\n",
       "</div>"
      ],
      "text/plain": [
       "    trans_x   trans_y   trans_z     rot_x     rot_y     rot_z  \\\n",
       "0 -0.000233 -0.076885  0.062321  0.000732  0.000352  0.000841   \n",
       "1 -0.006187 -0.078395  0.056773  0.000112  0.000187  0.000775   \n",
       "2 -0.000227 -0.069893  0.083102  0.000143  0.000364  0.000716   \n",
       "3  0.002492 -0.074707  0.060337  0.000202  0.000818  0.000681   \n",
       "4 -0.000226 -0.084204  0.085079  0.000183  0.000548  0.000682   \n",
       "\n",
       "   framewise_displacement  a_comp_cor_00  a_comp_cor_01  a_comp_cor_02  \\\n",
       "0                0.000000      -0.099871      -0.007286       0.001780   \n",
       "1                0.055543      -0.019437      -0.042308       0.016735   \n",
       "2                0.054112       0.009096      -0.053206      -0.030388   \n",
       "3                0.057667       0.060195      -0.083195       0.003578   \n",
       "4                0.051438       0.049833      -0.089819      -0.020825   \n",
       "\n",
       "   a_comp_cor_03  a_comp_cor_04  a_comp_cor_05         csf  white_matter  \n",
       "0      -0.008073       0.030945      -0.022393  439.699409    451.645460  \n",
       "1      -0.012099       0.088777      -0.006171  439.471640    451.103437  \n",
       "2      -0.052925       0.019922       0.014776  439.744498    450.981505  \n",
       "3      -0.037011       0.026946       0.002505  440.772620    450.600261  \n",
       "4      -0.079329       0.008516      -0.000938  440.115442    450.678959  "
      ]
     },
     "execution_count": 15,
     "metadata": {},
     "output_type": "execute_result"
    }
   ],
   "source": [
    "import pandas\n",
    "conf_df = pandas.read_csv(conf,sep='\\t')\n",
    "conf_df.head()"
   ]
  },
  {
   "cell_type": "code",
   "execution_count": 16,
   "metadata": {
    "slideshow": {
     "slide_type": "fragment"
    }
   },
   "outputs": [
    {
     "data": {
      "text/plain": [
       "(168, 15)"
      ]
     },
     "execution_count": 16,
     "metadata": {},
     "output_type": "execute_result"
    }
   ],
   "source": [
    "conf_df.shape"
   ]
  },
  {
   "cell_type": "markdown",
   "metadata": {
    "slideshow": {
     "slide_type": "slide"
    }
   },
   "source": [
    "#### Compute and display a correlation matrix\n"
   ]
  },
  {
   "cell_type": "code",
   "execution_count": 17,
   "metadata": {
    "slideshow": {
     "slide_type": "fragment"
    }
   },
   "outputs": [
    {
     "data": {
      "text/plain": [
       "(64, 64)"
      ]
     },
     "execution_count": 17,
     "metadata": {},
     "output_type": "execute_result"
    }
   ],
   "source": [
    "from nilearn.connectome import ConnectivityMeasure\n",
    "\n",
    "correlation_measure = ConnectivityMeasure(kind='correlation')\n",
    "correlation_matrix = correlation_measure.fit_transform([time_series])[0]\n",
    "correlation_matrix.shape"
   ]
  },
  {
   "cell_type": "code",
   "execution_count": 18,
   "metadata": {},
   "outputs": [],
   "source": [
    "ConnectivityMeasure?"
   ]
  },
  {
   "cell_type": "markdown",
   "metadata": {
    "slideshow": {
     "slide_type": "subslide"
    }
   },
   "source": [
    "Plot the correlation matrix"
   ]
  },
  {
   "cell_type": "code",
   "execution_count": 15,
   "metadata": {
    "rise": {
     "scroll": true
    },
    "slideshow": {
     "slide_type": "subslide"
    }
   },
   "outputs": [
    {
     "data": {
      "text/plain": [
       "<matplotlib.image.AxesImage at 0x7fedaba28990>"
      ]
     },
     "execution_count": 15,
     "metadata": {},
     "output_type": "execute_result"
    },
    {
     "data": {
      "image/png": "[encoded data removed]",
      "text/plain": [
       "<Figure size 720x576 with 2 Axes>"
      ]
     },
     "metadata": {
      "needs_background": "light"
     },
     "output_type": "display_data"
    }
   ],
   "source": [
    "import numpy as np\n",
    "# Mask the main diagonal for visualization:\n",
    "np.fill_diagonal(correlation_matrix, 0)\n",
    "\n",
    "# The labels we have start with the background (0), hence we skip the\n",
    "# first label  \n",
    "plotting.plot_matrix(correlation_matrix, figure=(10, 8),   \n",
    "                     labels=range(time_series.shape[-1]),\n",
    "                     vmax=0.8, vmin=-0.8, reorder=False)\n",
    "\n",
    "# matrices are ordered for block-like representation"
   ]
  },
  {
   "cell_type": "markdown",
   "metadata": {
    "slideshow": {
     "slide_type": "slide"
    }
   },
   "source": [
    "#### Extract features from the whole dataset\n",
    "\n",
    "Here, we are going to use a for loop to iterate through each image and use the same techniques we learned above to extract rs-fmri connectivity features from every subject.\n",
    "\n"
   ]
  },
  {
   "cell_type": "code",
   "execution_count": 16,
   "metadata": {
    "slideshow": {
     "slide_type": "slide"
    }
   },
   "outputs": [
    {
     "name": "stdout",
     "output_type": "stream",
     "text": [
      "the number is 0\n",
      "the number is 1\n",
      "the number is 2\n",
      "the number is 3\n",
      "the number is 4\n",
      "the number is 5\n",
      "the number is 6\n",
      "the number is 7\n",
      "the number is 8\n",
      "the number is 9\n"
     ]
    }
   ],
   "source": [
    "# Here is a really simple for loop\n",
    "\n",
    "for i in range(10):\n",
    "    print('the number is', i)"
   ]
  },
  {
   "cell_type": "code",
   "execution_count": 17,
   "metadata": {
    "slideshow": {
     "slide_type": "subslide"
    }
   },
   "outputs": [
    {
     "data": {
      "text/plain": [
       "[0, 1, 2, 3, 4, 5, 6, 7, 8, 9]"
      ]
     },
     "execution_count": 17,
     "metadata": {},
     "output_type": "execute_result"
    }
   ],
   "source": [
    "container = []\n",
    "for i in range(10):\n",
    "    container.append(i)\n",
    "\n",
    "container"
   ]
  },
  {
   "cell_type": "markdown",
   "metadata": {
    "slideshow": {
     "slide_type": "subslide"
    }
   },
   "source": [
    "Now lets construct a more complicated loop to do what we want"
   ]
  },
  {
   "cell_type": "markdown",
   "metadata": {
    "slideshow": {
     "slide_type": "subslide"
    }
   },
   "source": [
    "First we do some things we don't need to do in the loop. Let's reload our atlas, and re-initiate our masker and correlation_measure"
   ]
  },
  {
   "cell_type": "code",
   "execution_count": 18,
   "metadata": {
    "slideshow": {
     "slide_type": "fragment"
    }
   },
   "outputs": [],
   "source": [
    "from nilearn.input_data import NiftiLabelsMasker\n",
    "from nilearn.connectome import ConnectivityMeasure\n",
    "from nilearn import datasets\n",
    "\n",
    "# load atlas\n",
    "multiscale = datasets.fetch_atlas_basc_multiscale_2015()\n",
    "atlas_filename = multiscale.scale064\n",
    "\n",
    "# initialize masker (change verbosity)\n",
    "masker = NiftiLabelsMasker(labels_img=atlas_filename, standardize=True, \n",
    "                           memory='nilearn_cache', verbose=0)\n",
    "\n",
    "# initialize correlation measure, set to vectorize\n",
    "correlation_measure = ConnectivityMeasure(kind='correlation', vectorize=True,\n",
    "                                         discard_diagonal=True)"
   ]
  },
  {
   "cell_type": "markdown",
   "metadata": {
    "slideshow": {
     "slide_type": "subslide"
    }
   },
   "source": [
    "Okay -- now that we have that taken care of, let's run our big loop!"
   ]
  },
  {
   "cell_type": "markdown",
   "metadata": {
    "slideshow": {
     "slide_type": "fragment"
    }
   },
   "source": [
    "**NOTE**: On a laptop, this might a few minutes."
   ]
  },
  {
   "cell_type": "code",
   "execution_count": 19,
   "metadata": {
    "slideshow": {
     "slide_type": "subslide"
    }
   },
   "outputs": [
    {
     "name": "stdout",
     "output_type": "stream",
     "text": [
      "finished 1 of 155\n",
      "finished 2 of 155\n",
      "finished 3 of 155\n",
      "finished 4 of 155\n",
      "finished 5 of 155\n",
      "finished 6 of 155\n",
      "finished 7 of 155\n",
      "finished 8 of 155\n",
      "finished 9 of 155\n",
      "finished 10 of 155\n",
      "finished 11 of 155\n",
      "finished 12 of 155\n",
      "finished 13 of 155\n",
      "finished 14 of 155\n",
      "finished 15 of 155\n",
      "finished 16 of 155\n",
      "finished 17 of 155\n",
      "finished 18 of 155\n",
      "finished 19 of 155\n",
      "finished 20 of 155\n",
      "finished 21 of 155\n",
      "finished 22 of 155\n",
      "finished 23 of 155\n",
      "finished 24 of 155\n",
      "finished 25 of 155\n",
      "finished 26 of 155\n",
      "finished 27 of 155\n",
      "finished 28 of 155\n",
      "finished 29 of 155\n",
      "finished 30 of 155\n",
      "finished 31 of 155\n",
      "finished 32 of 155\n",
      "finished 33 of 155\n",
      "finished 34 of 155\n",
      "finished 35 of 155\n",
      "finished 36 of 155\n",
      "finished 37 of 155\n",
      "finished 38 of 155\n",
      "finished 39 of 155\n",
      "finished 40 of 155\n",
      "finished 41 of 155\n",
      "finished 42 of 155\n",
      "finished 43 of 155\n",
      "finished 44 of 155\n",
      "finished 45 of 155\n",
      "finished 46 of 155\n",
      "finished 47 of 155\n",
      "finished 48 of 155\n",
      "finished 49 of 155\n",
      "finished 50 of 155\n",
      "finished 51 of 155\n",
      "finished 52 of 155\n",
      "finished 53 of 155\n",
      "finished 54 of 155\n",
      "finished 55 of 155\n",
      "finished 56 of 155\n",
      "finished 57 of 155\n",
      "finished 58 of 155\n",
      "finished 59 of 155\n",
      "finished 60 of 155\n",
      "finished 61 of 155\n",
      "finished 62 of 155\n",
      "finished 63 of 155\n",
      "finished 64 of 155\n",
      "finished 65 of 155\n",
      "finished 66 of 155\n",
      "finished 67 of 155\n",
      "finished 68 of 155\n",
      "finished 69 of 155\n",
      "finished 70 of 155\n",
      "finished 71 of 155\n",
      "finished 72 of 155\n",
      "finished 73 of 155\n",
      "finished 74 of 155\n",
      "finished 75 of 155\n",
      "finished 76 of 155\n",
      "finished 77 of 155\n",
      "finished 78 of 155\n",
      "finished 79 of 155\n",
      "finished 80 of 155\n",
      "finished 81 of 155\n",
      "finished 82 of 155\n",
      "finished 83 of 155\n",
      "finished 84 of 155\n",
      "finished 85 of 155\n",
      "finished 86 of 155\n",
      "finished 87 of 155\n",
      "finished 88 of 155\n",
      "finished 89 of 155\n",
      "finished 90 of 155\n",
      "finished 91 of 155\n",
      "finished 92 of 155\n",
      "finished 93 of 155\n",
      "finished 94 of 155\n",
      "finished 95 of 155\n",
      "finished 96 of 155\n",
      "finished 97 of 155\n",
      "finished 98 of 155\n",
      "finished 99 of 155\n",
      "finished 100 of 155\n",
      "finished 101 of 155\n",
      "finished 102 of 155\n",
      "finished 103 of 155\n",
      "finished 104 of 155\n",
      "finished 105 of 155\n",
      "finished 106 of 155\n",
      "finished 107 of 155\n",
      "finished 108 of 155\n",
      "finished 109 of 155\n",
      "finished 110 of 155\n",
      "finished 111 of 155\n",
      "finished 112 of 155\n",
      "finished 113 of 155\n",
      "finished 114 of 155\n",
      "finished 115 of 155\n",
      "finished 116 of 155\n",
      "finished 117 of 155\n",
      "finished 118 of 155\n",
      "finished 119 of 155\n",
      "finished 120 of 155\n",
      "finished 121 of 155\n",
      "finished 122 of 155\n",
      "finished 123 of 155\n",
      "finished 124 of 155\n",
      "finished 125 of 155\n",
      "finished 126 of 155\n",
      "finished 127 of 155\n",
      "finished 128 of 155\n",
      "finished 129 of 155\n",
      "finished 130 of 155\n",
      "finished 131 of 155\n",
      "finished 132 of 155\n",
      "finished 133 of 155\n",
      "finished 134 of 155\n",
      "finished 135 of 155\n",
      "finished 136 of 155\n",
      "finished 137 of 155\n",
      "finished 138 of 155\n",
      "finished 139 of 155\n",
      "finished 140 of 155\n",
      "finished 141 of 155\n",
      "finished 142 of 155\n",
      "finished 143 of 155\n",
      "finished 144 of 155\n",
      "finished 145 of 155\n",
      "finished 146 of 155\n",
      "finished 147 of 155\n",
      "finished 148 of 155\n",
      "finished 149 of 155\n",
      "finished 150 of 155\n",
      "finished 151 of 155\n",
      "finished 152 of 155\n",
      "finished 153 of 155\n",
      "finished 154 of 155\n",
      "finished 155 of 155\n"
     ]
    }
   ],
   "source": [
    "all_features = [] # here is where we will put the data (a container)\n",
    "\n",
    "for i,sub in enumerate(data.func):\n",
    "    # extract the timeseries from the ROIs in the atlas\n",
    "    time_series = masker.fit_transform(sub, confounds=data.confounds[i])\n",
    "    # create a region x region correlation matrix\n",
    "    correlation_matrix = correlation_measure.fit_transform([time_series])[0]\n",
    "    # add to our container\n",
    "    all_features.append(correlation_matrix)\n",
    "    # keep track of status\n",
    "    print('finished %s of %s'%(i+1,len(data.func)))"
   ]
  },
  {
   "cell_type": "code",
   "execution_count": 20,
   "metadata": {
    "slideshow": {
     "slide_type": "subslide"
    }
   },
   "outputs": [],
   "source": [
    "# Let's save the data to disk\n",
    "import numpy as np\n",
    "\n",
    "#np.savez_compressed('MAIN_BASC064_subsamp_features',a = all_features)"
   ]
  },
  {
   "cell_type": "markdown",
   "metadata": {
    "slideshow": {
     "slide_type": "subslide"
    }
   },
   "source": [
    "In case you do not want to run the full loop on your computer, you can load the output of the loop here!"
   ]
  },
  {
   "cell_type": "code",
   "execution_count": 21,
   "metadata": {
    "slideshow": {
     "slide_type": "fragment"
    }
   },
   "outputs": [],
   "source": [
    "feat_file = 'MAIN_BASC064_subsamp_features.npz'\n",
    "X_features = np.load(feat_file)['a']"
   ]
  },
  {
   "cell_type": "code",
   "execution_count": 22,
   "metadata": {
    "slideshow": {
     "slide_type": "fragment"
    }
   },
   "outputs": [
    {
     "data": {
      "text/plain": [
       "(155, 2016)"
      ]
     },
     "execution_count": 22,
     "metadata": {},
     "output_type": "execute_result"
    }
   ],
   "source": [
    "X_features.shape"
   ]
  },
  {
   "cell_type": "markdown",
   "metadata": {
    "slideshow": {
     "slide_type": "subslide"
    }
   },
   "source": [
    "Okay so we've got our features."
   ]
  },
  {
   "cell_type": "markdown",
   "metadata": {
    "slideshow": {
     "slide_type": "fragment"
    }
   },
   "source": [
    "We can visualize our feature matrix"
   ]
  },
  {
   "cell_type": "code",
   "execution_count": 24,
   "metadata": {
    "slideshow": {
     "slide_type": "subslide"
    }
   },
   "outputs": [
    {
     "data": {
      "text/plain": [
       "Text(0, 0.5, 'subjects')"
      ]
     },
     "execution_count": 24,
     "metadata": {},
     "output_type": "execute_result"
    },
    {
     "data": {
      "image/png": "[encoded data removed]",
      "text/plain": [
       "<Figure size 432x288 with 2 Axes>"
      ]
     },
     "metadata": {
      "needs_background": "light"
     },
     "output_type": "display_data"
    }
   ],
   "source": [
    "import matplotlib.pyplot as plt\n",
    "\n",
    "plt.imshow(X_features, aspect='auto')\n",
    "plt.colorbar()\n",
    "plt.title('feature matrix')\n",
    "plt.xlabel('features')\n",
    "plt.ylabel('subjects')"
   ]
  },
  {
   "cell_type": "markdown",
   "metadata": {
    "slideshow": {
     "slide_type": "slide"
    }
   },
   "source": [
    "<img src=\"Imgs/SampFeat.png\" alt=\"terms\" width=\"300\"/>"
   ]
  },
  {
   "cell_type": "markdown",
   "metadata": {
    "slideshow": {
     "slide_type": "slide"
    }
   },
   "source": [
    "## Get Y (our target) and assess its distribution"
   ]
  },
  {
   "cell_type": "code",
   "execution_count": 23,
   "metadata": {
    "slideshow": {
     "slide_type": "subslide"
    }
   },
   "outputs": [
    {
     "data": {
      "text/html": [
       "<div>\n",
       "<style scoped>\n",
       "    .dataframe tbody tr th:only-of-type {\n",
       "        vertical-align: middle;\n",
       "    }\n",
       "\n",
       "    .dataframe tbody tr th {\n",
       "        vertical-align: top;\n",
       "    }\n",
       "\n",
       "    .dataframe thead th {\n",
       "        text-align: right;\n",
       "    }\n",
       "</style>\n",
       "<table border=\"1\" class=\"dataframe\">\n",
       "  <thead>\n",
       "    <tr style=\"text-align: right;\">\n",
       "      <th></th>\n",
       "      <th>participant_id</th>\n",
       "      <th>Age</th>\n",
       "      <th>AgeGroup</th>\n",
       "      <th>Child_Adult</th>\n",
       "      <th>Gender</th>\n",
       "      <th>Handedness</th>\n",
       "    </tr>\n",
       "  </thead>\n",
       "  <tbody>\n",
       "    <tr>\n",
       "      <th>0</th>\n",
       "      <td>sub-pixar123</td>\n",
       "      <td>27.06</td>\n",
       "      <td>Adult</td>\n",
       "      <td>adult</td>\n",
       "      <td>F</td>\n",
       "      <td>R</td>\n",
       "    </tr>\n",
       "    <tr>\n",
       "      <th>1</th>\n",
       "      <td>sub-pixar124</td>\n",
       "      <td>33.44</td>\n",
       "      <td>Adult</td>\n",
       "      <td>adult</td>\n",
       "      <td>M</td>\n",
       "      <td>R</td>\n",
       "    </tr>\n",
       "    <tr>\n",
       "      <th>2</th>\n",
       "      <td>sub-pixar125</td>\n",
       "      <td>31.00</td>\n",
       "      <td>Adult</td>\n",
       "      <td>adult</td>\n",
       "      <td>M</td>\n",
       "      <td>R</td>\n",
       "    </tr>\n",
       "    <tr>\n",
       "      <th>3</th>\n",
       "      <td>sub-pixar126</td>\n",
       "      <td>19.00</td>\n",
       "      <td>Adult</td>\n",
       "      <td>adult</td>\n",
       "      <td>F</td>\n",
       "      <td>R</td>\n",
       "    </tr>\n",
       "    <tr>\n",
       "      <th>4</th>\n",
       "      <td>sub-pixar127</td>\n",
       "      <td>23.00</td>\n",
       "      <td>Adult</td>\n",
       "      <td>adult</td>\n",
       "      <td>F</td>\n",
       "      <td>R</td>\n",
       "    </tr>\n",
       "  </tbody>\n",
       "</table>\n",
       "</div>"
      ],
      "text/plain": [
       "  participant_id    Age AgeGroup Child_Adult Gender Handedness\n",
       "0   sub-pixar123  27.06    Adult       adult      F          R\n",
       "1   sub-pixar124  33.44    Adult       adult      M          R\n",
       "2   sub-pixar125  31.00    Adult       adult      M          R\n",
       "3   sub-pixar126  19.00    Adult       adult      F          R\n",
       "4   sub-pixar127  23.00    Adult       adult      F          R"
      ]
     },
     "execution_count": 23,
     "metadata": {},
     "output_type": "execute_result"
    }
   ],
   "source": [
    "# Let's load the phenotype data\n",
    "import pandas\n",
    "\n",
    "pheno = pandas.DataFrame(data.phenotypic)\n",
    "pheno.head()"
   ]
  },
  {
   "cell_type": "markdown",
   "metadata": {
    "slideshow": {
     "slide_type": "fragment"
    }
   },
   "source": [
    "Looks like there is a column labeling age. Let's capture it in a variable"
   ]
  },
  {
   "cell_type": "code",
   "execution_count": 25,
   "metadata": {
    "slideshow": {
     "slide_type": "subslide"
    }
   },
   "outputs": [],
   "source": [
    "y_age = pheno['Age']"
   ]
  },
  {
   "cell_type": "markdown",
   "metadata": {
    "slideshow": {
     "slide_type": "fragment"
    }
   },
   "source": [
    "Maybe we should have a look at the distribution of our target variable"
   ]
  },
  {
   "cell_type": "code",
   "execution_count": 26,
   "metadata": {
    "slideshow": {
     "slide_type": "subslide"
    }
   },
   "outputs": [
    {
     "data": {
      "text/plain": [
       "<matplotlib.axes._subplots.AxesSubplot at 0x7feda9c56090>"
      ]
     },
     "execution_count": 26,
     "metadata": {},
     "output_type": "execute_result"
    },
    {
     "data": {
      "image/png": "[encoded data removed]",
      "text/plain": [
       "<Figure size 432x288 with 1 Axes>"
      ]
     },
     "metadata": {
      "needs_background": "light"
     },
     "output_type": "display_data"
    }
   ],
   "source": [
    "import matplotlib.pyplot as plt\n",
    "import seaborn as sns\n",
    "sns.distplot(y_age)"
   ]
  },
  {
   "cell_type": "markdown",
   "metadata": {
    "slideshow": {
     "slide_type": "slide"
    }
   },
   "source": [
    "## Prepare data for machine learning\n",
    "\n",
    "Here, we will define a \"training sample\" where we can play around with our models. \n",
    "\n",
    "We will also set aside a \"validation\" sample that we will not touch until the end"
   ]
  },
  {
   "cell_type": "markdown",
   "metadata": {
    "slideshow": {
     "slide_type": "subslide"
    }
   },
   "source": [
    "We want to be sure that our training and test sample are matched! We can do that with a \"stratified split\". \n",
    "\n",
    "This dataset has a variable indicating AgeGroup. We can use that to make sure our training and testing sets are balanced!"
   ]
  },
  {
   "cell_type": "code",
   "execution_count": 27,
   "metadata": {
    "slideshow": {
     "slide_type": "fragment"
    }
   },
   "outputs": [
    {
     "data": {
      "text/plain": [
       "8-12yo    34\n",
       "5yo       34\n",
       "Adult     33\n",
       "7yo       23\n",
       "3yo       17\n",
       "4yo       14\n",
       "Name: AgeGroup, dtype: int64"
      ]
     },
     "execution_count": 27,
     "metadata": {},
     "output_type": "execute_result"
    }
   ],
   "source": [
    "age_class = pheno['AgeGroup']\n",
    "age_class.value_counts()"
   ]
  },
  {
   "cell_type": "code",
   "execution_count": null,
   "metadata": {
    "slideshow": {
     "slide_type": "slide"
    }
   },
   "outputs": [],
   "source": [
    "from sklearn.model_selection import train_test_split\n",
    "\n",
    "# Split the sample to training/validation with a 60/40 ratio, and \n",
    "# stratify by age class, and also shuffle the data.\n",
    "\n",
    "X_train, X_val, y_train, y_val = train_test_split(\n",
    "                                                    X_features, # x\n",
    "                                                    y_age, # y\n",
    "                                                    test_size = 0.4, # 60%/40% split  \n",
    "                                                    shuffle = True, # shuffle dataset\n",
    "                                                                    # before splitting\n",
    "                                                    stratify = age_class,  # keep\n",
    "                                                                           # distribution\n",
    "                                                                           # of ageclass\n",
    "                                                                           # consistent\n",
    "                                                                           # betw. train\n",
    "                                                                           # & test sets.\n",
    "                                                    random_state = 123 # same shuffle each\n",
    "                                                                       # time\n",
    "                                                                       )\n",
    "\n",
    "# print the size of our training and test groups\n",
    "print('training:', len(X_train),\n",
    "     'testing:', len(X_val))"
   ]
  },
  {
   "cell_type": "markdown",
   "metadata": {
    "slideshow": {
     "slide_type": "subslide"
    }
   },
   "source": [
    "Let's visualize the distributions to be sure they are matched"
   ]
  },
  {
   "cell_type": "code",
   "execution_count": null,
   "metadata": {
    "slideshow": {
     "slide_type": "subslide"
    }
   },
   "outputs": [],
   "source": [
    "sns.distplot(y_train,label='train')\n",
    "sns.distplot(y_val,label='test')\n",
    "plt.legend()"
   ]
  },
  {
   "cell_type": "markdown",
   "metadata": {
    "slideshow": {
     "slide_type": "slide"
    }
   },
   "source": [
    "## Run your first model!\n",
    "\n",
    "Machine learning can get pretty fancy pretty quickly. We'll start with a fairly standard regression model called a Support Vector Regressor (SVR). \n",
    "\n",
    "While this may seem unambitious, simple models can be very robust. And we probably don't have enough data to create more complex models (but we can try later)."
   ]
  },
  {
   "cell_type": "markdown",
   "metadata": {
    "slideshow": {
     "slide_type": "subslide"
    }
   },
   "source": [
    "<img src=\"Imgs/regr.jpg\" alt=\"terms\" width=\"700\"/>"
   ]
  },
  {
   "cell_type": "markdown",
   "metadata": {
    "slideshow": {
     "slide_type": "skip"
    }
   },
   "source": [
    "For more information, see this excellent resource: https://hal.inria.fr/hal-01824205"
   ]
  },
  {
   "cell_type": "markdown",
   "metadata": {
    "slideshow": {
     "slide_type": "slide"
    }
   },
   "source": [
    "Let's fit our first model!"
   ]
  },
  {
   "cell_type": "code",
   "execution_count": null,
   "metadata": {
    "slideshow": {
     "slide_type": "fragment"
    }
   },
   "outputs": [],
   "source": [
    "from sklearn.svm import SVR\n",
    "l_svr = SVR(kernel='linear') # define the model\n",
    "\n",
    "l_svr.fit(X_train, y_train) # fit the model"
   ]
  },
  {
   "cell_type": "markdown",
   "metadata": {
    "slideshow": {
     "slide_type": "fragment"
    }
   },
   "source": [
    "Well... that was easy. Let's see how well the model learned the data!"
   ]
  },
  {
   "cell_type": "markdown",
   "metadata": {
    "slideshow": {
     "slide_type": "slide"
    }
   },
   "source": [
    "\n",
    "\n",
    "\n",
    "<img src=\"Imgs/modval.png\" alt=\"terms\" width=\"800\"/>"
   ]
  },
  {
   "cell_type": "code",
   "execution_count": null,
   "metadata": {
    "slideshow": {
     "slide_type": "subslide"
    }
   },
   "outputs": [],
   "source": [
    "\n",
    "# predict the training data based on the model\n",
    "y_pred = l_svr.predict(X_train) \n",
    "\n",
    "# caluclate the model accuracy\n",
    "acc = l_svr.score(X_train, y_train) \n"
   ]
  },
  {
   "cell_type": "markdown",
   "metadata": {
    "slideshow": {
     "slide_type": "subslide"
    }
   },
   "source": [
    "Let's view our results and plot them all at once!"
   ]
  },
  {
   "cell_type": "code",
   "execution_count": null,
   "metadata": {
    "slideshow": {
     "slide_type": "fragment"
    }
   },
   "outputs": [],
   "source": [
    "# print results\n",
    "print('accuracy (R2)', acc)\n",
    "\n",
    "sns.regplot(y_pred,y_train)\n",
    "plt.xlabel('Predicted Age')"
   ]
  },
  {
   "cell_type": "markdown",
   "metadata": {
    "slideshow": {
     "slide_type": "subslide"
    }
   },
   "source": [
    "HOLY COW! Machine learning is amazing!!! Almost a perfect fit!"
   ]
  },
  {
   "cell_type": "markdown",
   "metadata": {
    "slideshow": {
     "slide_type": "fragment"
    }
   },
   "source": [
    "...which means there's something wrong. What's the problem here?"
   ]
  },
  {
   "cell_type": "markdown",
   "metadata": {
    "slideshow": {
     "slide_type": "subslide"
    }
   },
   "source": [
    "<img src=\"Imgs/regr.jpg\" alt=\"terms\" width=\"700\"/>"
   ]
  },
  {
   "cell_type": "code",
   "execution_count": null,
   "metadata": {
    "slideshow": {
     "slide_type": "slide"
    }
   },
   "outputs": [],
   "source": [
    "from sklearn.model_selection import train_test_split\n",
    "\n",
    "# Split the sample to training/test with a 75/25 ratio, and \n",
    "# stratify by age class, and also shuffle the data.\n",
    "\n",
    "age_class2 = pheno.loc[y_train.index,'AgeGroup']\n",
    "\n",
    "X_train2, X_test, y_train2, y_test = train_test_split(\n",
    "                                                    X_train, # x\n",
    "                                                    y_train, # y\n",
    "                                                    test_size = 0.25, # 75%/25% split  \n",
    "                                                    shuffle = True, # shuffle dataset\n",
    "                                                                    # before splitting\n",
    "                                                    stratify = age_class2,  # keep\n",
    "                                                                           # distribution\n",
    "                                                                           # of ageclass\n",
    "                                                                           # consistent\n",
    "                                                                           # betw. train\n",
    "                                                                           # & test sets.\n",
    "                                                    random_state = 123 # same shuffle each\n",
    "                                                                       # time\n",
    "                                                                       )\n",
    "\n",
    "# print the size of our training and test groups\n",
    "print('training:', len(X_train2),\n",
    "     'testing:', len(X_test))"
   ]
  },
  {
   "cell_type": "code",
   "execution_count": null,
   "metadata": {
    "slideshow": {
     "slide_type": "subslide"
    }
   },
   "outputs": [],
   "source": [
    "from sklearn.metrics import mean_absolute_error\n",
    "\n",
    "# fit model just to training data\n",
    "l_svr.fit(X_train2,y_train2)\n",
    "\n",
    "# predict the *test* data based on the model trained on X_train2\n",
    "y_pred = l_svr.predict(X_test) \n",
    "\n",
    "# caluclate the model accuracy\n",
    "acc = l_svr.score(X_test, y_test) \n",
    "mae = mean_absolute_error(y_true=y_test,y_pred=y_pred)"
   ]
  },
  {
   "cell_type": "code",
   "execution_count": null,
   "metadata": {
    "slideshow": {
     "slide_type": "subslide"
    }
   },
   "outputs": [],
   "source": [
    "# print results\n",
    "print('accuracy (R2) = ', acc)\n",
    "print('MAE = ',mae)\n",
    "\n",
    "sns.regplot(y_pred,y_test)\n",
    "plt.xlabel('Predicted Age')"
   ]
  },
  {
   "cell_type": "markdown",
   "metadata": {
    "slideshow": {
     "slide_type": "fragment"
    }
   },
   "source": [
    "Not perfect, but as predicting with unseen data goes, not too bad! Especially with a training sample of \"only\" 69 subjects. But we can do better! "
   ]
  },
  {
   "cell_type": "markdown",
   "metadata": {
    "slideshow": {
     "slide_type": "slide"
    }
   },
   "source": [
    "For example, we can increase the size our training set while simultaneously reducing bias by instead using 10-fold cross-validation"
   ]
  },
  {
   "cell_type": "markdown",
   "metadata": {
    "slideshow": {
     "slide_type": "subslide"
    }
   },
   "source": [
    "\n",
    "<img src=\"Imgs/KCV2.png\" alt=\"terms\" width=\"500\"/>"
   ]
  },
  {
   "cell_type": "code",
   "execution_count": null,
   "metadata": {
    "slideshow": {
     "slide_type": "subslide"
    }
   },
   "outputs": [],
   "source": [
    "from sklearn.model_selection import cross_val_predict, cross_val_score\n",
    "\n",
    "# predict\n",
    "y_pred = cross_val_predict(l_svr, X_train, y_train, cv=10)\n",
    "# scores\n",
    "acc = cross_val_score(l_svr, X_train, y_train, cv=10)\n",
    "mae = cross_val_score(l_svr, X_train, y_train, cv=10, scoring='neg_mean_absolute_error')"
   ]
  },
  {
   "cell_type": "markdown",
   "metadata": {
    "slideshow": {
     "slide_type": "subslide"
    }
   },
   "source": [
    "We can look at the accuracy of the predictions for each fold of the cross-validation"
   ]
  },
  {
   "cell_type": "code",
   "execution_count": null,
   "metadata": {
    "slideshow": {
     "slide_type": "fragment"
    }
   },
   "outputs": [],
   "source": [
    "for i in range(10):\n",
    "    print('Fold {} -- Acc = {}, MAE = {}'.format(i, acc[i],-mae[i]))"
   ]
  },
  {
   "cell_type": "markdown",
   "metadata": {
    "slideshow": {
     "slide_type": "subslide"
    }
   },
   "source": [
    "We can also look at the overall accuracy of the model"
   ]
  },
  {
   "cell_type": "code",
   "execution_count": null,
   "metadata": {
    "slideshow": {
     "slide_type": "subslide"
    }
   },
   "outputs": [],
   "source": [
    "from sklearn.metrics import r2_score\n",
    "\n",
    "overall_acc = r2_score(y_train, y_pred)\n",
    "overall_mae = mean_absolute_error(y_train,y_pred)\n",
    "print('R2:',overall_acc)\n",
    "print('MAE:',overall_mae)\n",
    "\n",
    "sns.regplot(y_pred, y_train)\n",
    "plt.xlabel('Predicted Age')"
   ]
  },
  {
   "cell_type": "markdown",
   "metadata": {
    "slideshow": {
     "slide_type": "subslide"
    }
   },
   "source": [
    "Not too bad at all! \n",
    "\n",
    "But more importantly, this is a more accurate estimation of our model's predictive efficacy. \n",
    "\n",
    "Our sample size is larger and this is based on several rounds of prediction of unseen data. "
   ]
  },
  {
   "cell_type": "markdown",
   "metadata": {
    "slideshow": {
     "slide_type": "fragment"
    }
   },
   "source": [
    "For example, we can now see that the effect is being driven by the model's successful parsing of adults vs. children, but is not performing so well within the adult or children group. This was not evident during our previous iteration of the model"
   ]
  },
  {
   "cell_type": "markdown",
   "metadata": {
    "slideshow": {
     "slide_type": "slide"
    }
   },
   "source": [
    "## Tweak your model"
   ]
  },
  {
   "cell_type": "markdown",
   "metadata": {
    "slideshow": {
     "slide_type": "fragment"
    }
   },
   "source": [
    "It's very important to learn when and where its appropriate to \"tweak\" your model."
   ]
  },
  {
   "cell_type": "markdown",
   "metadata": {
    "slideshow": {
     "slide_type": "subslide"
    }
   },
   "source": [
    "Since we have done all of the previous analysis in our training data, it's fine to try out different models. \n",
    "\n",
    "But we **absolutely cannot** \"test\" it on our left out data. If we do, we are in great danger of overfitting."
   ]
  },
  {
   "cell_type": "markdown",
   "metadata": {
    "slideshow": {
     "slide_type": "fragment"
    }
   },
   "source": [
    "It is not uncommon to try other models, or tweak hyperparameters. In this case, due to our relatively small sample size, we are probably not powered sufficiently to do so, and we would once again risk overfitting. However, for the sake of demonstration, we will do some tweaking. "
   ]
  },
  {
   "cell_type": "markdown",
   "metadata": {
    "slideshow": {
     "slide_type": "subslide"
    }
   },
   "source": [
    "\n",
    "<img src=\"Imgs/KCV2.png\" alt=\"terms\" width=\"500\"/>\n"
   ]
  },
  {
   "cell_type": "markdown",
   "metadata": {
    "slideshow": {
     "slide_type": "subslide"
    }
   },
   "source": [
    "We will try a few different examples:\n",
    "* Normalizing our target data\n",
    "* Tweaking our hyperparameters\n",
    "* Trying a more complicated model\n",
    "* Feature selection"
   ]
  },
  {
   "cell_type": "markdown",
   "metadata": {
    "slideshow": {
     "slide_type": "slide"
    }
   },
   "source": [
    "#### Normalize the target data"
   ]
  },
  {
   "cell_type": "code",
   "execution_count": null,
   "metadata": {
    "slideshow": {
     "slide_type": "subslide"
    }
   },
   "outputs": [],
   "source": [
    "# Create a log transformer function and log transform Y (age)\n",
    "\n",
    "from sklearn.preprocessing import FunctionTransformer\n",
    "\n",
    "log_transformer = FunctionTransformer(func = np.log, validate=True)\n",
    "log_transformer.fit(y_train.values.reshape(-1,1))\n",
    "y_train_log = log_transformer.transform(y_train.values.reshape(-1,1))[:,0]\n",
    "\n",
    "sns.distplot(y_train_log)\n",
    "plt.title(\"Log-Transformed Age\")"
   ]
  },
  {
   "cell_type": "markdown",
   "metadata": {
    "slideshow": {
     "slide_type": "subslide"
    }
   },
   "source": [
    "Now let's go ahead and cross-validate our model once again with this new log-transformed target"
   ]
  },
  {
   "cell_type": "code",
   "execution_count": null,
   "metadata": {
    "slideshow": {
     "slide_type": "subslide"
    }
   },
   "outputs": [],
   "source": [
    "# re-intialize the model\n",
    "l_svr = SVR(kernel='linear') \n",
    "\n",
    "# predict\n",
    "y_pred = cross_val_predict(l_svr, X_train, y_train_log, cv=10)\n",
    "\n",
    "# scores\n",
    "acc = r2_score(y_train_log, y_pred)\n",
    "mae = mean_absolute_error(y_train_log,y_pred)\n",
    "\n",
    "print('R2:',acc)\n",
    "print('MAE:',mae)\n",
    "\n",
    "sns.regplot(y_pred, y_train_log)\n",
    "plt.xlabel('Predicted Log Age')\n",
    "plt.ylabel('Log Age')"
   ]
  },
  {
   "cell_type": "markdown",
   "metadata": {
    "slideshow": {
     "slide_type": "subslide"
    }
   },
   "source": [
    "Seems like a definite improvement, right? I think we can agree on that. \n",
    "\n",
    "But we can't forget about interpretability? The MAE is much less interpretable now."
   ]
  },
  {
   "cell_type": "markdown",
   "metadata": {
    "slideshow": {
     "slide_type": "slide"
    }
   },
   "source": [
    "#### Tweak the hyperparameters"
   ]
  },
  {
   "cell_type": "markdown",
   "metadata": {
    "slideshow": {
     "slide_type": "fragment"
    }
   },
   "source": [
    "Many machine learning algorithms have hyperparameters that can be \"tuned\" to optimize model fitting. \n",
    "\n",
    "Careful parameter tuning can really improve a model, but haphazard tuning will often lead to overfitting."
   ]
  },
  {
   "cell_type": "markdown",
   "metadata": {
    "slideshow": {
     "slide_type": "subslide"
    }
   },
   "source": [
    "Our SVR model has multiple hyperparameters. Let's explore some approaches for tuning them"
   ]
  },
  {
   "cell_type": "code",
   "execution_count": null,
   "metadata": {
    "slideshow": {
     "slide_type": "fragment"
    }
   },
   "outputs": [],
   "source": [
    "SVR?"
   ]
  },
  {
   "cell_type": "markdown",
   "metadata": {
    "slideshow": {
     "slide_type": "subslide"
    }
   },
   "source": [
    "One way is to plot a \"Validation Curve\" -- this will let us view changes in training and validation accuracy of a model as we shift its hyperparameters. \n",
    "\n",
    "We can do this easily with sklearn."
   ]
  },
  {
   "cell_type": "code",
   "execution_count": null,
   "metadata": {
    "slideshow": {
     "slide_type": "subslide"
    }
   },
   "outputs": [],
   "source": [
    "from sklearn.model_selection import validation_curve\n",
    "\n",
    "C_range = 10. ** np.arange(-3, 8) # A range of different values for C\n",
    "\n",
    "train_scores, valid_scores = validation_curve(l_svr, X_train, y_train_log, \n",
    "                                              param_name= \"C\",\n",
    "                                              param_range = C_range,\n",
    "                                              cv=10,\n",
    "                                             scoring='neg_mean_squared_error')\n"
   ]
  },
  {
   "cell_type": "code",
   "execution_count": null,
   "metadata": {
    "slideshow": {
     "slide_type": "subslide"
    }
   },
   "outputs": [],
   "source": [
    "# A bit of pandas magic to prepare the data for a seaborn plot\n",
    "\n",
    "tScores = pandas.DataFrame(train_scores).stack().reset_index()\n",
    "tScores.columns = ['C','Fold','Score']\n",
    "tScores.loc[:,'Type'] = ['Train' for x in range(len(tScores))]\n",
    "\n",
    "vScores = pandas.DataFrame(valid_scores).stack().reset_index()\n",
    "vScores.columns = ['C','Fold','Score']\n",
    "vScores.loc[:,'Type'] = ['Validate' for x in range(len(vScores))]\n",
    "\n",
    "ValCurves = pandas.concat([tScores,vScores]).reset_index(drop=True)\n",
    "ValCurves.head()"
   ]
  },
  {
   "cell_type": "code",
   "execution_count": null,
   "metadata": {
    "slideshow": {
     "slide_type": "subslide"
    }
   },
   "outputs": [],
   "source": [
    "# And plot!\n",
    "\n",
    "g = sns.catplot(x='C',y='Score',hue='Type',data=ValCurves,kind='point')\n",
    "plt.xticks(range(10))\n",
    "g.set_xticklabels(C_range, rotation=90)"
   ]
  },
  {
   "cell_type": "markdown",
   "metadata": {
    "slideshow": {
     "slide_type": "subslide"
    }
   },
   "source": [
    "It looks like accuracy is better for higher values of C, and plateaus somewhere between 0.1 and 1. \n",
    "\n",
    "The default setting is C=1, so it looks like we can't really improve much by changing C."
   ]
  },
  {
   "cell_type": "markdown",
   "metadata": {
    "slideshow": {
     "slide_type": "fragment"
    }
   },
   "source": [
    "But our SVR model actually has two hyperparameters, C and epsilon. Perhaps there is an optimal combination of settings for these two parameters."
   ]
  },
  {
   "cell_type": "markdown",
   "metadata": {
    "slideshow": {
     "slide_type": "subslide"
    }
   },
   "source": [
    "We can explore that somewhat quickly with a grid search, which is once again easily achieved with sklearn. \n",
    "\n",
    "Because we are fitting the model multiple times witih cross-validation, this will take some time"
   ]
  },
  {
   "cell_type": "code",
   "execution_count": null,
   "metadata": {
    "slideshow": {
     "slide_type": "subslide"
    }
   },
   "outputs": [],
   "source": [
    "from sklearn.model_selection import GridSearchCV\n",
    "\n",
    "C_range = 10. ** np.arange(-3, 8)\n",
    "epsilon_range = 10. ** np.arange(-3, 8)\n",
    "\n",
    "param_grid = dict(epsilon=epsilon_range, C=C_range)\n",
    "\n",
    "grid = GridSearchCV(l_svr, param_grid=param_grid, cv=10)\n",
    "\n",
    "grid.fit(X_train, y_train_log)"
   ]
  },
  {
   "cell_type": "markdown",
   "metadata": {
    "slideshow": {
     "slide_type": "subslide"
    }
   },
   "source": [
    "Now that the grid search has completed, let's find out what was the \"best\" parameter combination"
   ]
  },
  {
   "cell_type": "code",
   "execution_count": null,
   "metadata": {
    "slideshow": {
     "slide_type": "fragment"
    }
   },
   "outputs": [],
   "source": [
    "print(grid.best_params_)"
   ]
  },
  {
   "cell_type": "markdown",
   "metadata": {
    "slideshow": {
     "slide_type": "fragment"
    }
   },
   "source": [
    "And if redo our cross-validation with this parameter set?"
   ]
  },
  {
   "cell_type": "code",
   "execution_count": null,
   "metadata": {
    "slideshow": {
     "slide_type": "subslide"
    }
   },
   "outputs": [],
   "source": [
    "y_pred = cross_val_predict(SVR(kernel='linear',\n",
    "                               C=grid.best_params_['C'],\n",
    "                               epsilon=grid.best_params_['epsilon'], \n",
    "                               gamma='auto'), \n",
    "                           X_train, y_train_log, cv=10)\n",
    "\n",
    "# scores\n",
    "acc = r2_score(y_train_log, y_pred)\n",
    "mae = mean_absolute_error(y_train_log,y_pred)\n",
    "\n",
    "print('R2:',acc)\n",
    "print('MAE:',mae)\n",
    "\n",
    "sns.regplot(y_pred, y_train_log)\n",
    "plt.xlabel('Predicted Log Age')\n",
    "plt.ylabel('Log Age')"
   ]
  },
  {
   "cell_type": "markdown",
   "metadata": {
    "slideshow": {
     "slide_type": "subslide"
    }
   },
   "source": [
    "Perhaps unsurprisingly, the model fit is only very slightly improved from what we had with our defaults. There's a reason they are defaults ;-)\n",
    "\n",
    "Grid search can be a powerful and useful tool. But can you think of a way that, if not properly utilized, it could lead to overfitting? Could it be happening here?"
   ]
  },
  {
   "cell_type": "markdown",
   "metadata": {
    "slideshow": {
     "slide_type": "skip"
    }
   },
   "source": [
    "You can find a nice set of tutorials with links to very helpful content regarding how to tune hyperparameters while being aware of over- and under-fitting here:\n",
    "\n",
    "https://scikit-learn.org/stable/modules/learning_curve.html"
   ]
  },
  {
   "cell_type": "markdown",
   "metadata": {
    "slideshow": {
     "slide_type": "slide"
    }
   },
   "source": [
    "#### Trying a more complicated model"
   ]
  },
  {
   "cell_type": "markdown",
   "metadata": {
    "slideshow": {
     "slide_type": "fragment"
    }
   },
   "source": [
    "In principle, there is no real reason to do this. Perhaps one could make an argument for quadratic relationship with age, but we probably don't have enough subjects to learn a complicated non-linear model. \n",
    "\n",
    "But for the sake of demonstration, we can give it a shot."
   ]
  },
  {
   "cell_type": "markdown",
   "metadata": {
    "slideshow": {
     "slide_type": "subslide"
    }
   },
   "source": [
    "\n",
    "\n",
    "We'll use a validation curve to see the result of our model if, instead of fitting a linear model, we instead try to the fit a 2nd, 3rd, ... 8th order polynomial."
   ]
  },
  {
   "cell_type": "code",
   "execution_count": null,
   "metadata": {
    "slideshow": {
     "slide_type": "fragment"
    }
   },
   "outputs": [],
   "source": [
    "validation_curve?"
   ]
  },
  {
   "cell_type": "code",
   "execution_count": null,
   "metadata": {
    "slideshow": {
     "slide_type": "subslide"
    }
   },
   "outputs": [],
   "source": [
    "from sklearn.model_selection import validation_curve\n",
    "\n",
    "degree_range = list(range(1,8)) # A range of different values for C\n",
    "\n",
    "train_scores, valid_scores = validation_curve(SVR(kernel='poly',\n",
    "                                                  gamma='scale'\n",
    "                                                 ), \n",
    "                                              X=X_train, y=y_train_log, \n",
    "                                              param_name= \"degree\",\n",
    "                                              param_range = degree_range,\n",
    "                                              cv=10,\n",
    "                                             scoring='neg_mean_squared_error')\n"
   ]
  },
  {
   "cell_type": "code",
   "execution_count": null,
   "metadata": {
    "slideshow": {
     "slide_type": "subslide"
    }
   },
   "outputs": [],
   "source": [
    "# A bit of pandas magic to prepare the data for a seaborn plot\n",
    "\n",
    "tScores = pandas.DataFrame(train_scores).stack().reset_index()\n",
    "tScores.columns = ['Degree','Fold','Score']\n",
    "tScores.loc[:,'Type'] = ['Train' for x in range(len(tScores))]\n",
    "\n",
    "vScores = pandas.DataFrame(valid_scores).stack().reset_index()\n",
    "vScores.columns = ['Degree','Fold','Score']\n",
    "vScores.loc[:,'Type'] = ['Validate' for x in range(len(vScores))]\n",
    "\n",
    "ValCurves = pandas.concat([tScores,vScores]).reset_index(drop=True)\n",
    "ValCurves.head()"
   ]
  },
  {
   "cell_type": "code",
   "execution_count": null,
   "metadata": {
    "slideshow": {
     "slide_type": "subslide"
    }
   },
   "outputs": [],
   "source": [
    "# And plot!\n",
    "\n",
    "g = sns.catplot(x='Degree',y='Score',hue='Type',data=ValCurves,kind='point')\n",
    "plt.xticks(range(7))\n",
    "g.set_xticklabels(degree_range, rotation=90)"
   ]
  },
  {
   "cell_type": "markdown",
   "metadata": {
    "slideshow": {
     "slide_type": "subslide"
    }
   },
   "source": [
    "<img src=\"Imgs/BV.jpg\" alt=\"terms\" width=\"800\"/>"
   ]
  },
  {
   "cell_type": "markdown",
   "metadata": {
    "slideshow": {
     "slide_type": "subslide"
    }
   },
   "source": [
    "It appears that we cannot improve our model by increasing the complexity of the fit. If one looked only at the training data, one might surmise that a higher order fit could be a slightly better model. \n",
    "\n",
    "But that improvement does not generalize to the validation data."
   ]
  },
  {
   "cell_type": "markdown",
   "metadata": {
    "slideshow": {
     "slide_type": "slide"
    }
   },
   "source": [
    "#### Feature selection"
   ]
  },
  {
   "cell_type": "markdown",
   "metadata": {
    "slideshow": {
     "slide_type": "fragment"
    }
   },
   "source": [
    "Right now, we have 2016 features. Are all of those really going to contribute to the model stably? "
   ]
  },
  {
   "cell_type": "markdown",
   "metadata": {
    "slideshow": {
     "slide_type": "subslide"
    }
   },
   "source": [
    "Intuitively, models tend to perform better when there are fewer, more important features than when there are many, less imortant features. The tough part is figuring out which features are useful or important."
   ]
  },
  {
   "cell_type": "markdown",
   "metadata": {
    "slideshow": {
     "slide_type": "fragment"
    }
   },
   "source": [
    "Here will quickly try a basic feature seclection strategy"
   ]
  },
  {
   "cell_type": "markdown",
   "metadata": {
    "slideshow": {
     "slide_type": "subslide"
    }
   },
   "source": [
    "<img src=\"Imgs/FeatSel.png\" alt=\"terms\" width=\"400\"/>"
   ]
  },
  {
   "cell_type": "markdown",
   "metadata": {
    "slideshow": {
     "slide_type": "subslide"
    }
   },
   "source": [
    "The SelectPercentile() function will select the top X% of features based on univariate tests. This is a way of identifying theoretically more useful features."
   ]
  },
  {
   "cell_type": "markdown",
   "metadata": {
    "slideshow": {
     "slide_type": "fragment"
    }
   },
   "source": [
    "But remember, significance != prediction, as demonstrated in this figure from Bzdok et al., 2018 *bioRxiv*\n",
    "\n",
    "![Bzdok2018](https://www.biorxiv.org/content/biorxiv/early/2018/05/21/327437/F1.large.jpg?width=800&height=600&carousel=1)"
   ]
  },
  {
   "cell_type": "markdown",
   "metadata": {
    "slideshow": {
     "slide_type": "fragment"
    }
   },
   "source": [
    "We are also in danger of overfitting here. For starters, if we want to test this with 10-fold cross-validation, we will need to do a separate feature selection within each fold! \n",
    "\n",
    "That means we'll need to do the cross-validation manually instead of using cross_val_predict(). "
   ]
  },
  {
   "cell_type": "code",
   "execution_count": null,
   "metadata": {
    "slideshow": {
     "slide_type": "subslide"
    }
   },
   "outputs": [],
   "source": [
    "from sklearn.feature_selection import SelectPercentile, f_regression\n",
    "from sklearn.model_selection import KFold\n",
    "from sklearn.pipeline import Pipeline\n",
    "\n",
    "# Build a tiny pipeline that does feature selection (top 20% of features), \n",
    "# and then prediction with our linear svr model.\n",
    "model = Pipeline([\n",
    "    ('feature_selection',SelectPercentile(f_regression,percentile=20)),\n",
    "    ('prediction', l_svr)\n",
    "                 ])\n",
    "\n",
    "y_pred = [] # a container to catch the predictions from each fold\n",
    "y_index = [] # just in case, the index for each prediction\n",
    "\n",
    "# First we create 10 splits of the data\n",
    "skf = KFold(n_splits=10, shuffle=True, random_state=123)\n",
    "\n",
    "# For each split, assemble the train and test samples \n",
    "for tr_ind, te_ind in skf.split(X_train):\n",
    "    X_tr = X_train[tr_ind]\n",
    "    y_tr = y_train_log[tr_ind]\n",
    "    X_te = X_train[te_ind]\n",
    "    y_index += list(te_ind) # store the index of samples to predict\n",
    "    \n",
    "    # and run our pipeline \n",
    "    model.fit(X_tr, y_tr) # fit the data to the model using our mini pipeline\n",
    "    predictions = model.predict(X_te).tolist() # get the predictions for this fold\n",
    "    y_pred += predictions # add them to the list of predictions\n",
    "\n",
    "\n",
    "    "
   ]
  },
  {
   "cell_type": "markdown",
   "metadata": {
    "slideshow": {
     "slide_type": "subslide"
    }
   },
   "source": [
    "Alrighty, let's see if only using the top 20% of features improves the model at all..."
   ]
  },
  {
   "cell_type": "code",
   "execution_count": null,
   "metadata": {
    "slideshow": {
     "slide_type": "subslide"
    }
   },
   "outputs": [],
   "source": [
    "acc = r2_score(y_train_log[y_index], y_pred)\n",
    "mae = mean_absolute_error(y_train_log[y_index],y_pred)\n",
    "\n",
    "print('R2:',acc)\n",
    "print('MAE:',mae)\n",
    "\n",
    "sns.regplot(np.array(y_pred), y_train_log[y_index])\n",
    "plt.xlabel('Predicted Log Age')\n",
    "plt.ylabel('Log Age')\n"
   ]
  },
  {
   "cell_type": "markdown",
   "metadata": {
    "slideshow": {
     "slide_type": "subslide"
    }
   },
   "source": [
    "In this case, the transformation *did* result in a slight improvement. Will this generalize to left out data?"
   ]
  },
  {
   "cell_type": "markdown",
   "metadata": {
    "slideshow": {
     "slide_type": "skip"
    }
   },
   "source": [
    "See here for an explanation of different feature selection options and how to implement them in sklearn: https://scikit-learn.org/stable/modules/feature_selection.html\n",
    "\n",
    "And here is a thoughtful tutorial covering feature selection for novel machine learners: https://www.datacamp.com/community/tutorials/feature-selection-python"
   ]
  },
  {
   "cell_type": "markdown",
   "metadata": {
    "slideshow": {
     "slide_type": "slide"
    }
   },
   "source": [
    "So there you have it. We've tried many different strategies, but most of our \"tweaks\" haven't really lead to improvements in the model. This is not always the case, but it is not uncommon. \n",
    "\n",
    "Can you think of some reasons why?"
   ]
  },
  {
   "cell_type": "markdown",
   "metadata": {
    "slideshow": {
     "slide_type": "slide"
    }
   },
   "source": [
    "Moving on to our validation data, we probably should just stick to a basic model, though predicting log age might be a good idea!"
   ]
  },
  {
   "cell_type": "markdown",
   "metadata": {
    "slideshow": {
     "slide_type": "slide"
    }
   },
   "source": [
    "## Can our model predict age in completely un-seen data?"
   ]
  },
  {
   "cell_type": "markdown",
   "metadata": {
    "slideshow": {
     "slide_type": "fragment"
    }
   },
   "source": [
    "Now that we've fit a model we think has possibly learned how to decode age based on rs-fmri signal, let's put it to the test. \n",
    "\n",
    "We will train our model on all of the training data, and try to predict the age of the subjects we left out at the beginning of this section."
   ]
  },
  {
   "cell_type": "markdown",
   "metadata": {
    "slideshow": {
     "slide_type": "subslide"
    }
   },
   "source": [
    "Because we performed a log transformation on our training data, we will need to transform our testing data using the *same information!*  But that's easy because we stored our transformation in an object!\n"
   ]
  },
  {
   "cell_type": "code",
   "execution_count": null,
   "metadata": {
    "slideshow": {
     "slide_type": "fragment"
    }
   },
   "outputs": [],
   "source": [
    "# Notice how we use the Scaler that was fit to X_train and apply to X_test,\n",
    "# rather than creating a new Scaler for X_test\n",
    "y_val_log = log_transformer.transform(y_val.values.reshape(-1,1))[:,0]"
   ]
  },
  {
   "cell_type": "markdown",
   "metadata": {
    "slideshow": {
     "slide_type": "subslide"
    }
   },
   "source": [
    "And now for the moment of truth! \n",
    "\n",
    "No cross-validation needed here. We simply fit the model with the training data and use it to predict the testing data\n",
    "\n",
    "I'm so nervous. Let's just do it all in one cell"
   ]
  },
  {
   "cell_type": "code",
   "execution_count": null,
   "metadata": {
    "slideshow": {
     "slide_type": "subslide"
    }
   },
   "outputs": [],
   "source": [
    "l_svr = SVR(kernel='linear') # define the model\n",
    "l_svr.fit(X_train, y_train_log) # fit to training data\n",
    "y_pred = l_svr.predict(X_val) # classify age class using testing data\n",
    "acc = l_svr.score(X_val, y_val_log) # get accuracy (r2)\n",
    "mae = mean_absolute_error(y_val_log, y_pred) # get mae\n",
    "\n",
    "# print results\n",
    "print('accuracy (r2) =', acc)\n",
    "print('mae = ',mae)\n",
    "\n",
    "# plot results\n",
    "sns.regplot(y_pred, y_val_log)\n",
    "plt.xlabel('Predicted Log Age')\n",
    "plt.ylabel('Log Age')"
   ]
  },
  {
   "cell_type": "markdown",
   "metadata": {
    "slideshow": {
     "slide_type": "subslide"
    }
   },
   "source": [
    "***Wow!!*** Congratulations. You just trained a machine learning model that used real rs-fmri data to predict the age of real humans."
   ]
  },
  {
   "cell_type": "markdown",
   "metadata": {
    "slideshow": {
     "slide_type": "fragment"
    }
   },
   "source": [
    "The proper thing to do at this point would be to repeat the train-validation split multiple times. This will ensure the results are not specific to this validation set, and will give you some confidence intervals around your results."
   ]
  },
  {
   "cell_type": "markdown",
   "metadata": {
    "slideshow": {
     "slide_type": "slide"
    }
   },
   "source": [
    "As an assignment, you can give that a try below. Create 10 different splits of the entire dataset, fit the model and get your predictions. Then, plot the range of predictions.\n"
   ]
  },
  {
   "cell_type": "code",
   "execution_count": null,
   "metadata": {
    "slideshow": {
     "slide_type": "skip"
    }
   },
   "outputs": [],
   "source": [
    "# SPACE FOR YOUR ASSIGNMENT\n",
    "\n",
    "\n"
   ]
  },
  {
   "cell_type": "markdown",
   "metadata": {
    "slideshow": {
     "slide_type": "slide"
    }
   },
   "source": [
    "So, it seems like something in this data does seem to be systematically related to age ... but you might be curious what what those features are?  "
   ]
  },
  {
   "cell_type": "markdown",
   "metadata": {
    "slideshow": {
     "slide_type": "fragment"
    }
   },
   "source": [
    "#### Interpreting model feature importances"
   ]
  },
  {
   "cell_type": "markdown",
   "metadata": {
    "slideshow": {
     "slide_type": "subslide"
    }
   },
   "source": [
    "Interpreting the feature importances of a machine learning model is a real can of worms. This is an area of active research. Unfortunately, it's hard to trust the feature importance of some models. "
   ]
  },
  {
   "cell_type": "markdown",
   "metadata": {
    "slideshow": {
     "slide_type": "fragment"
    }
   },
   "source": [
    "<img src=\"Imgs/SvML.jpg\" alt=\"terms\" width=\"800\"/>"
   ]
  },
  {
   "cell_type": "markdown",
   "metadata": {
    "slideshow": {
     "slide_type": "skip"
    }
   },
   "source": [
    "\n",
    "You can find a whole tutorial on this subject here:\n",
    "http://gael-varoquaux.info/interpreting_ml_tuto/index.html"
   ]
  },
  {
   "cell_type": "markdown",
   "metadata": {
    "slideshow": {
     "slide_type": "subslide"
    }
   },
   "source": [
    "For now, we'll just eschew better judgement and take a look at our feature importances. \n",
    "\n",
    "While we can't ascribe any biological relevance to the features, it can still be helpful to know what the model is using to make its predictions. This is a good way to, for example, establish whether your model is actually learning based on a confound! Could you think of some examples?"
   ]
  },
  {
   "cell_type": "markdown",
   "metadata": {
    "slideshow": {
     "slide_type": "subslide"
    }
   },
   "source": [
    "<img src=\"Imgs/reg.jpg\" alt=\"terms\" width=\"700\"/>"
   ]
  },
  {
   "cell_type": "markdown",
   "metadata": {
    "slideshow": {
     "slide_type": "subslide"
    }
   },
   "source": [
    "We can access the feature importances (weights) used by the model"
   ]
  },
  {
   "cell_type": "code",
   "execution_count": null,
   "metadata": {
    "slideshow": {
     "slide_type": "fragment"
    }
   },
   "outputs": [],
   "source": [
    "l_svr.coef_"
   ]
  },
  {
   "cell_type": "markdown",
   "metadata": {
    "slideshow": {
     "slide_type": "fragment"
    }
   },
   "source": [
    "lets plot these weights to see their distribution better"
   ]
  },
  {
   "cell_type": "code",
   "execution_count": null,
   "metadata": {
    "slideshow": {
     "slide_type": "subslide"
    }
   },
   "outputs": [],
   "source": [
    "plt.bar(range(l_svr.coef_.shape[-1]),l_svr.coef_[0])\n",
    "plt.title('feature importances')\n",
    "plt.xlabel('feature')\n",
    "plt.ylabel('weight')"
   ]
  },
  {
   "cell_type": "markdown",
   "metadata": {
    "slideshow": {
     "slide_type": "subslide"
    }
   },
   "source": [
    "Or perhaps it will be easier to visualize this information as a matrix similar to the one we started with\n",
    "\n",
    "We can use the correlation measure from before to perform an inverse transform"
   ]
  },
  {
   "cell_type": "code",
   "execution_count": null,
   "metadata": {
    "slideshow": {
     "slide_type": "fragment"
    }
   },
   "outputs": [],
   "source": [
    "correlation_measure.inverse_transform(l_svr.coef_).shape"
   ]
  },
  {
   "cell_type": "code",
   "execution_count": null,
   "metadata": {
    "slideshow": {
     "slide_type": "subslide"
    }
   },
   "outputs": [],
   "source": [
    "from nilearn import plotting\n",
    "\n",
    "feat_exp_matrix = correlation_measure.inverse_transform(l_svr.coef_)[0]\n",
    "\n",
    "plotting.plot_matrix(feat_exp_matrix, figure=(10, 8),  \n",
    "                     labels=range(feat_exp_matrix.shape[0]),\n",
    "                     reorder=False,\n",
    "                    tri='lower')"
   ]
  },
  {
   "cell_type": "markdown",
   "metadata": {
    "slideshow": {
     "slide_type": "subslide"
    }
   },
   "source": [
    "Let's see if we can throw those features onto an actual brain.\n",
    "\n",
    "First, we'll need to gather the coordinates of each ROI of our atlas"
   ]
  },
  {
   "cell_type": "code",
   "execution_count": null,
   "metadata": {
    "slideshow": {
     "slide_type": "fragment"
    }
   },
   "outputs": [],
   "source": [
    "coords = plotting.find_parcellation_cut_coords(atlas_filename)"
   ]
  },
  {
   "cell_type": "markdown",
   "metadata": {
    "slideshow": {
     "slide_type": "subslide"
    }
   },
   "source": [
    "And now we can use our feature matrix and the wonders of nilearn to create a connectome map where each node is an ROI, and each connection is weighted by the importance of the feature to the model"
   ]
  },
  {
   "cell_type": "code",
   "execution_count": null,
   "metadata": {
    "slideshow": {
     "slide_type": "subslide"
    }
   },
   "outputs": [],
   "source": [
    "plotting.plot_connectome(feat_exp_matrix, coords, colorbar=True)"
   ]
  },
  {
   "cell_type": "markdown",
   "metadata": {
    "slideshow": {
     "slide_type": "fragment"
    }
   },
   "source": [
    "Whoa!! That's...a lot to process. Maybe let's threshold the edges so that only the most important connections are visualized"
   ]
  },
  {
   "cell_type": "code",
   "execution_count": null,
   "metadata": {
    "slideshow": {
     "slide_type": "subslide"
    }
   },
   "outputs": [],
   "source": [
    "plotting.plot_connectome(feat_exp_matrix, coords, colorbar=True, edge_threshold=0.035)"
   ]
  },
  {
   "cell_type": "markdown",
   "metadata": {
    "slideshow": {
     "slide_type": "fragment"
    }
   },
   "source": [
    "That's definitely an improvement, but it's still a bit hard to see what's going on.\n",
    "Nilearn has a new feature that let's use view this data interactively!"
   ]
  },
  {
   "cell_type": "code",
   "execution_count": null,
   "metadata": {
    "slideshow": {
     "slide_type": "subslide"
    }
   },
   "outputs": [],
   "source": [
    "plotting.view_connectome(feat_exp_matrix, coords, edge_threshold='98%',\n",
    "                        edge_cmap='viridis')"
   ]
  }
 ],
 "metadata": {
  "anaconda-cloud": {},
  "celltoolbar": "Edit Metadata",
  "kernelspec": {
   "display_name": "Python 3",
   "language": "python",
   "name": "python3"
  },
  "language_info": {
   "codemirror_mode": {
    "name": "ipython",
    "version": 3
   },
   "file_extension": ".py",
   "mimetype": "text/x-python",
   "name": "python",
   "nbconvert_exporter": "python",
   "pygments_lexer": "ipython3",
   "version": "3.7.6"
  },
  "rise": {
   "scroll": true
  }
 },
 "nbformat": 4,
 "nbformat_minor": 1
}
