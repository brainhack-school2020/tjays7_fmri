{
 "cells": [
  {
   "cell_type": "code",
   "execution_count": 5,
   "metadata": {},
   "outputs": [],
   "source": [
    "# Let's keep our notebook clean, so it's a little more readable!\n",
    "import warnings\n",
    "warnings.filterwarnings('ignore')"
   ]
  },
  {
   "cell_type": "code",
   "execution_count": 4,
   "metadata": {},
   "outputs": [],
   "source": [
    "%matplotlib inline"
   ]
  },
  {
   "cell_type": "code",
   "execution_count": 1,
   "metadata": {},
   "outputs": [],
   "source": [
    "# Lets fetch the data!\n",
    "from nilearn import datasets\n",
    "data = datasets.fetch_development_fmri()"
   ]
  },
  {
   "cell_type": "code",
   "execution_count": 2,
   "metadata": {},
   "outputs": [
    {
     "data": {
      "text/plain": [
       "155"
      ]
     },
     "execution_count": 2,
     "metadata": {},
     "output_type": "execute_result"
    }
   ],
   "source": [
    "len(data.func)"
   ]
  },
  {
   "cell_type": "code",
   "execution_count": 7,
   "metadata": {},
   "outputs": [
    {
     "data": {
      "text/plain": [
       "dict_keys(['func', 'confounds', 'phenotypic', 'description'])"
      ]
     },
     "execution_count": 7,
     "metadata": {},
     "output_type": "execute_result"
    }
   ],
   "source": [
    "data.keys()"
   ]
  },
  {
   "cell_type": "code",
   "execution_count": 8,
   "metadata": {},
   "outputs": [],
   "source": [
    "pheno = data.phenotypic"
   ]
  },
  {
   "cell_type": "code",
   "execution_count": 9,
   "metadata": {},
   "outputs": [
    {
     "data": {
      "text/plain": [
       "numpy.ndarray"
      ]
     },
     "execution_count": 9,
     "metadata": {},
     "output_type": "execute_result"
    }
   ],
   "source": [
    "type(pheno)"
   ]
  },
  {
   "cell_type": "code",
   "execution_count": 15,
   "metadata": {},
   "outputs": [
    {
     "name": "stdout",
     "output_type": "stream",
     "text": [
      "[('sub-pixar123', 27.06      , 'Adult', 'adult', 'F', 'R')\n",
      " ('sub-pixar124', 33.44      , 'Adult', 'adult', 'M', 'R')\n",
      " ('sub-pixar125', 31.        , 'Adult', 'adult', 'M', 'R')\n",
      " ('sub-pixar126', 19.        , 'Adult', 'adult', 'F', 'R')\n",
      " ('sub-pixar127', 23.        , 'Adult', 'adult', 'F', 'R')\n",
      " ('sub-pixar128', 27.        , 'Adult', 'adult', 'M', 'R')\n",
      " ('sub-pixar129', 23.        , 'Adult', 'adult', 'F', 'R')\n",
      " ('sub-pixar130', 21.        , 'Adult', 'adult', 'F', 'R')\n",
      " ('sub-pixar131', 39.        , 'Adult', 'adult', 'M', 'R')\n",
      " ('sub-pixar132', 22.        , 'Adult', 'adult', 'F', 'R')\n",
      " ('sub-pixar133', 21.        , 'Adult', 'adult', 'M', 'R')\n",
      " ('sub-pixar134', 25.        , 'Adult', 'adult', 'M', 'R')\n",
      " ('sub-pixar135', 21.        , 'Adult', 'adult', 'F', 'R')\n",
      " ('sub-pixar136', 25.        , 'Adult', 'adult', 'F', 'R')\n",
      " ('sub-pixar137', 34.        , 'Adult', 'adult', 'F', 'R')\n",
      " ('sub-pixar138', 28.        , 'Adult', 'adult', 'F', 'R')\n",
      " ('sub-pixar139', 18.        , 'Adult', 'adult', 'F', 'R')\n",
      " ('sub-pixar140', 19.        , 'Adult', 'adult', 'M', 'R')\n",
      " ('sub-pixar141', 22.        , 'Adult', 'adult', 'F', 'R')\n",
      " ('sub-pixar142', 33.        , 'Adult', 'adult', 'F', 'R')\n",
      " ('sub-pixar143', 22.        , 'Adult', 'adult', 'F', 'R')\n",
      " ('sub-pixar144', 20.        , 'Adult', 'adult', 'F', 'R')\n",
      " ('sub-pixar145', 22.        , 'Adult', 'adult', 'F', 'R')\n",
      " ('sub-pixar146', 18.        , 'Adult', 'adult', 'M', 'R')\n",
      " ('sub-pixar147', 21.        , 'Adult', 'adult', 'M', 'L')\n",
      " ('sub-pixar148', 31.        , 'Adult', 'adult', 'M', 'R')\n",
      " ('sub-pixar149', 24.        , 'Adult', 'adult', 'F', 'R')\n",
      " ('sub-pixar150', 19.        , 'Adult', 'adult', 'F', 'R')\n",
      " ('sub-pixar151', 23.        , 'Adult', 'adult', 'F', 'R')\n",
      " ('sub-pixar152', 21.        , 'Adult', 'adult', 'F', 'R')\n",
      " ('sub-pixar153', 30.        , 'Adult', 'adult', 'M', 'R')\n",
      " ('sub-pixar154', 29.        , 'Adult', 'adult', 'M', 'R')\n",
      " ('sub-pixar155', 26.        , 'Adult', 'adult', 'M', 'R')\n",
      " ('sub-pixar001',  4.77481177, '4yo', 'child', 'M', 'R')\n",
      " ('sub-pixar002',  4.8569473 , '4yo', 'child', 'F', 'R')\n",
      " ('sub-pixar003',  4.15331964, '4yo', 'child', 'F', 'R')\n",
      " ('sub-pixar004',  4.47364819, '4yo', 'child', 'F', 'R')\n",
      " ('sub-pixar005',  4.83778234, '4yo', 'child', 'F', 'R')\n",
      " ('sub-pixar006',  3.60574949, '3yo', 'child', 'F', 'R')\n",
      " ('sub-pixar007',  4.24914442, '4yo', 'child', 'M', 'R')\n",
      " ('sub-pixar008',  3.52908966, '3yo', 'child', 'F', 'R')\n",
      " ('sub-pixar009',  3.51813826, '3yo', 'child', 'M', 'R')\n",
      " ('sub-pixar010',  4.35865845, '4yo', 'child', 'M', 'R')\n",
      " ('sub-pixar011',  3.9835729 , '3yo', 'child', 'F', 'R')\n",
      " ('sub-pixar012',  3.78644764, '3yo', 'child', 'F', 'R')\n",
      " ('sub-pixar013',  3.84941821, '3yo', 'child', 'M', 'R')\n",
      " ('sub-pixar014',  3.63586585, '3yo', 'child', 'M', 'R')\n",
      " ('sub-pixar015',  4.76659822, '4yo', 'child', 'F', 'R')\n",
      " ('sub-pixar016',  3.62217659, '3yo', 'child', 'M', 'R')\n",
      " ('sub-pixar017',  3.61396304, '3yo', 'child', 'F', 'L')\n",
      " ('sub-pixar018',  4.57768652, '4yo', 'child', 'M', 'R')\n",
      " ('sub-pixar019',  3.96988364, '3yo', 'child', 'M', 'R')\n",
      " ('sub-pixar020',  3.59479808, '3yo', 'child', 'M', 'L')\n",
      " ('sub-pixar021',  4.36413416, '4yo', 'child', 'F', 'R')\n",
      " ('sub-pixar022',  3.8220397 , '3yo', 'child', 'F', 'R')\n",
      " ('sub-pixar023',  3.86584531, '3yo', 'child', 'F', 'R')\n",
      " ('sub-pixar024',  4.05749487, '4yo', 'child', 'M', 'R')\n",
      " ('sub-pixar025',  3.93155373, '3yo', 'child', 'F', 'R')\n",
      " ('sub-pixar026',  3.93155373, '3yo', 'child', 'F', 'R')\n",
      " ('sub-pixar027',  3.9890486 , '3yo', 'child', 'F', 'R')\n",
      " ('sub-pixar028',  3.53456537, '3yo', 'child', 'M', 'R')\n",
      " ('sub-pixar029',  4.30937714, '4yo', 'child', 'M', 'Ambi')\n",
      " ('sub-pixar030',  4.15605749, '4yo', 'child', 'F', 'R')\n",
      " ('sub-pixar031',  4.08487337, '4yo', 'child', 'F', 'R')\n",
      " ('sub-pixar032',  5.43      , '5yo', 'child', 'F', 'R')\n",
      " ('sub-pixar033',  5.81      , '5yo', 'child', 'M', 'R')\n",
      " ('sub-pixar034',  5.99      , '5yo', 'child', 'M', 'R')\n",
      " ('sub-pixar035',  5.99      , '5yo', 'child', 'M', 'R')\n",
      " ('sub-pixar036',  5.39      , '5yo', 'child', 'F', 'R')\n",
      " ('sub-pixar037',  5.52      , '5yo', 'child', 'M', 'R')\n",
      " ('sub-pixar038',  5.55      , '5yo', 'child', 'F', 'R')\n",
      " ('sub-pixar039',  5.54      , '5yo', 'child', 'M', 'R')\n",
      " ('sub-pixar040',  5.29      , '5yo', 'child', 'M', 'L')\n",
      " ('sub-pixar041',  5.49      , '5yo', 'child', 'M', 'R')\n",
      " ('sub-pixar042',  5.01      , '5yo', 'child', 'F', 'L')\n",
      " ('sub-pixar043',  5.79      , '5yo', 'child', 'M', 'Ambi')\n",
      " ('sub-pixar044',  5.76      , '5yo', 'child', 'M', 'R')\n",
      " ('sub-pixar045',  5.18      , '5yo', 'child', 'M', 'L')\n",
      " ('sub-pixar046',  5.97      , '5yo', 'child', 'F', 'R')\n",
      " ('sub-pixar047',  5.47      , '5yo', 'child', 'F', 'R')\n",
      " ('sub-pixar048',  5.99      , '5yo', 'child', 'M', 'R')\n",
      " ('sub-pixar049',  5.23      , '5yo', 'child', 'M', 'R')\n",
      " ('sub-pixar050',  5.31      , '5yo', 'child', 'F', 'R')\n",
      " ('sub-pixar051',  5.38      , '5yo', 'child', 'M', 'R')\n",
      " ('sub-pixar052',  5.46      , '5yo', 'child', 'F', 'R')\n",
      " ('sub-pixar053',  5.46      , '5yo', 'child', 'M', 'R')\n",
      " ('sub-pixar054',  5.99      , '5yo', 'child', 'M', 'R')\n",
      " ('sub-pixar055',  5.82      , '5yo', 'child', 'M', 'L')\n",
      " ('sub-pixar056',  5.26      , '5yo', 'child', 'F', 'R')\n",
      " ('sub-pixar057',  5.66      , '5yo', 'child', 'F', 'R')\n",
      " ('sub-pixar058',  5.13      , '5yo', 'child', 'F', 'R')\n",
      " ('sub-pixar059',  5.51      , '5yo', 'child', 'F', 'L')\n",
      " ('sub-pixar060',  5.12      , '5yo', 'child', 'F', 'R')\n",
      " ('sub-pixar061',  5.56      , '5yo', 'child', 'F', 'Ambi')\n",
      " ('sub-pixar062',  5.46      , '5yo', 'child', 'F', 'R')\n",
      " ('sub-pixar063',  5.33      , '5yo', 'child', 'M', 'L')\n",
      " ('sub-pixar064',  5.44      , '5yo', 'child', 'M', 'R')\n",
      " ('sub-pixar065',  5.02      , '5yo', 'child', 'F', 'R')\n",
      " ('sub-pixar066',  7.        , '7yo', 'child', 'F', 'R')\n",
      " ('sub-pixar067',  7.92      , '7yo', 'child', 'F', 'R')\n",
      " ('sub-pixar068',  7.92      , '7yo', 'child', 'F', 'R')\n",
      " ('sub-pixar069',  7.96      , '7yo', 'child', 'M', 'R')\n",
      " ('sub-pixar070',  7.15      , '7yo', 'child', 'F', 'R')\n",
      " ('sub-pixar071',  7.13      , '7yo', 'child', 'M', 'R')\n",
      " ('sub-pixar072',  7.91      , '7yo', 'child', 'F', 'R')\n",
      " ('sub-pixar073',  7.95      , '7yo', 'child', 'F', 'R')\n",
      " ('sub-pixar074',  7.95      , '7yo', 'child', 'M', 'R')\n",
      " ('sub-pixar075',  7.83      , '7yo', 'child', 'M', 'R')\n",
      " ('sub-pixar076',  7.06      , '7yo', 'child', 'M', 'R')\n",
      " ('sub-pixar077',  9.45      , '8-12yo', 'child', 'M', 'R')\n",
      " ('sub-pixar078',  8.6       , '8-12yo', 'child', 'F', 'R')\n",
      " ('sub-pixar079',  7.07      , '7yo', 'child', 'M', 'R')\n",
      " ('sub-pixar080',  7.91      , '7yo', 'child', 'M', 'R')\n",
      " ('sub-pixar081',  7.91      , '7yo', 'child', 'F', 'R')\n",
      " ('sub-pixar082',  9.76      , '8-12yo', 'child', 'F', 'R')\n",
      " ('sub-pixar083',  7.28      , '7yo', 'child', 'F', 'R')\n",
      " ('sub-pixar084',  7.1       , '7yo', 'child', 'M', 'R')\n",
      " ('sub-pixar085',  9.48      , '8-12yo', 'child', 'F', 'R')\n",
      " ('sub-pixar086',  7.46      , '7yo', 'child', 'F', 'R')\n",
      " ('sub-pixar087',  9.96      , '8-12yo', 'child', 'M', 'R')\n",
      " ('sub-pixar088',  7.71      , '7yo', 'child', 'M', 'R')\n",
      " ('sub-pixar089',  8.02      , '8-12yo', 'child', 'M', 'R')\n",
      " ('sub-pixar090',  8.15      , '8-12yo', 'child', 'M', 'R')\n",
      " ('sub-pixar091',  9.7       , '8-12yo', 'child', 'M', 'R')\n",
      " ('sub-pixar092',  8.48      , '8-12yo', 'child', 'M', 'R')\n",
      " ('sub-pixar093',  8.59      , '8-12yo', 'child', 'F', 'R')\n",
      " ('sub-pixar094',  9.52      , '8-12yo', 'child', 'F', 'R')\n",
      " ('sub-pixar095',  9.94      , '8-12yo', 'child', 'F', 'R')\n",
      " ('sub-pixar096',  7.13      , '7yo', 'child', 'F', 'R')\n",
      " ('sub-pixar097',  8.87      , '8-12yo', 'child', 'F', 'L')\n",
      " ('sub-pixar098', 10.19      , '8-12yo', 'child', 'M', 'R')\n",
      " ('sub-pixar099',  7.66      , '7yo', 'child', 'M', 'R')\n",
      " ('sub-pixar100',  9.59      , '8-12yo', 'child', 'M', 'R')\n",
      " ('sub-pixar101', 11.17      , '8-12yo', 'child', 'M', 'R')\n",
      " ('sub-pixar102', 11.17      , '8-12yo', 'child', 'F', 'R')\n",
      " ('sub-pixar103', 10.55      , '8-12yo', 'child', 'M', 'R')\n",
      " ('sub-pixar104',  8.57      , '8-12yo', 'child', 'F', 'R')\n",
      " ('sub-pixar105',  8.66      , '8-12yo', 'child', 'M', 'R')\n",
      " ('sub-pixar106',  8.02      , '8-12yo', 'child', 'M', 'R')\n",
      " ('sub-pixar107', 11.51      , '8-12yo', 'child', 'M', 'R')\n",
      " ('sub-pixar108', 10.7       , '8-12yo', 'child', 'F', 'R')\n",
      " ('sub-pixar109', 10.38      , '8-12yo', 'child', 'F', 'R')\n",
      " ('sub-pixar110', 10.78      , '8-12yo', 'child', 'F', 'R')\n",
      " ('sub-pixar111',  8.62      , '8-12yo', 'child', 'F', 'R')\n",
      " ('sub-pixar112', 12.05      , '8-12yo', 'child', 'M', 'R')\n",
      " ('sub-pixar113', 10.29      , '8-12yo', 'child', 'F', 'R')\n",
      " ('sub-pixar114',  7.43      , '7yo', 'child', 'M', 'R')\n",
      " ('sub-pixar115',  9.68      , '8-12yo', 'child', 'F', 'R')\n",
      " ('sub-pixar116',  7.68      , '7yo', 'child', 'F', 'R')\n",
      " ('sub-pixar117', 12.3       , '8-12yo', 'child', 'M', 'R')\n",
      " ('sub-pixar118', 10.5       , '8-12yo', 'child', 'F', 'R')\n",
      " ('sub-pixar119',  8.62      , '8-12yo', 'child', 'F', 'R')\n",
      " ('sub-pixar120', 11.48      , '8-12yo', 'child', 'F', 'R')\n",
      " ('sub-pixar121',  8.76      , '8-12yo', 'child', 'F', 'R')\n",
      " ('sub-pixar122',  7.21      , '7yo', 'child', 'M', 'R')]\n"
     ]
    }
   ],
   "source": [
    "print(pheno)"
   ]
  },
  {
   "cell_type": "code",
   "execution_count": 20,
   "metadata": {},
   "outputs": [
    {
     "name": "stdout",
     "output_type": "stream",
     "text": [
      "Atlas ROIs are located in nifti image (4D) at: /home/tjays/nilearn_data/basc_multiscale_2015/template_cambridge_basc_multiscale_nii_sym/template_cambridge_basc_multiscale_sym_scale064.nii.gz\n"
     ]
    }
   ],
   "source": [
    "from nilearn.input_data import NiftiLabelsMasker\n",
    "from nilearn.connectome import ConnectivityMeasure\n",
    "from nilearn import datasets\n",
    "\n",
    "#First, let's load a parcellation that we'd like to use\n",
    "multiscale = datasets.fetch_atlas_basc_multiscale_2015(version='sym')\n",
    "atlas_filename = multiscale.scale064\n",
    "\n",
    "print('Atlas ROIs are located in nifti image (4D) at: %s' %\n",
    "       atlas_filename)"
   ]
  },
  {
   "cell_type": "code",
   "execution_count": 21,
   "metadata": {},
   "outputs": [
    {
     "data": {
      "text/plain": [
       "<nilearn.plotting.displays.OrthoSlicer at 0x7ff3f4efde50>"
      ]
     },
     "execution_count": 21,
     "metadata": {},
     "output_type": "execute_result"
    },
    {
     "data": {
      "image/png": "[encoded data removed]",
      "text/plain": [
       "<Figure size 475.2x187.2 with 4 Axes>"
      ]
     },
     "metadata": {},
     "output_type": "display_data"
    }
   ],
   "source": [
    "from nilearn import plotting\n",
    "\n",
    "plotting.plot_roi(atlas_filename, draw_cross=False)"
   ]
  },
  {
   "cell_type": "code",
   "execution_count": 25,
   "metadata": {},
   "outputs": [],
   "source": [
    "# initialize the masker from which we will retrieve a 2D array\n",
    "masker = NiftiLabelsMasker(labels_img=atlas_filename, standardize=True, \n",
    "                           memory='nilearn_cache', verbose=0)"
   ]
  },
  {
   "cell_type": "code",
   "execution_count": 29,
   "metadata": {},
   "outputs": [],
   "source": [
    "# initialize correlation measure, to build a \"connectome\"\n",
    "#set to vectorize (ready for our predictive model later on!)\n",
    "correlation_measure = ConnectivityMeasure(kind='correlation', discard_diagonal=True)"
   ]
  },
  {
   "cell_type": "code",
   "execution_count": 30,
   "metadata": {},
   "outputs": [],
   "source": [
    "# example with one participant\n",
    "sub = data.func[0]\n",
    "conf = data.confounds[0]\n",
    "\n",
    "# Extract brain signal while removing confounds\n",
    "time_series = masker.fit_transform(sub, confounds=conf)"
   ]
  },
  {
   "cell_type": "code",
   "execution_count": 31,
   "metadata": {},
   "outputs": [
    {
     "data": {
      "text/plain": [
       "(168, 64)"
      ]
     },
     "execution_count": 31,
     "metadata": {},
     "output_type": "execute_result"
    }
   ],
   "source": [
    "time_series.shape"
   ]
  },
  {
   "cell_type": "code",
   "execution_count": 34,
   "metadata": {},
   "outputs": [
    {
     "data": {
      "text/plain": [
       "(64, 64)"
      ]
     },
     "execution_count": 34,
     "metadata": {},
     "output_type": "execute_result"
    }
   ],
   "source": [
    "correlation_matrix = correlation_measure.fit_transform([time_series])[0]\n",
    "correlation_matrix.shape"
   ]
  },
  {
   "cell_type": "code",
   "execution_count": 35,
   "metadata": {},
   "outputs": [
    {
     "data": {
      "text/plain": [
       "<matplotlib.image.AxesImage at 0x7ff3e7033490>"
      ]
     },
     "execution_count": 35,
     "metadata": {},
     "output_type": "execute_result"
    },
    {
     "data": {
      "image/png": "[encoded data removed]",
      "text/plain": [
       "<Figure size 720x576 with 2 Axes>"
      ]
     },
     "metadata": {
      "needs_background": "light"
     },
     "output_type": "display_data"
    }
   ],
   "source": [
    "import numpy as np\n",
    "# Mask the main diagonal for visualization:\n",
    "np.fill_diagonal(correlation_matrix, 0)\n",
    "\n",
    "# The labels we have start with the background (0), hence we skip the\n",
    "# first label  \n",
    "plotting.plot_matrix(correlation_matrix, figure=(10, 8),   \n",
    "                     labels=range(time_series.shape[-1]),\n",
    "                     vmax=0.8, vmin=-0.8, reorder=False)\n",
    "\n",
    "# matrices are ordered for block-like representation"
   ]
  },
  {
   "cell_type": "code",
   "execution_count": 38,
   "metadata": {},
   "outputs": [
    {
     "name": "stdout",
     "output_type": "stream",
     "text": [
      "finished /home/tjays/nilearn_data/development_fmri/development_fmri/sub-pixar123_task-pixar_space-MNI152NLin2009cAsym_desc-preproc_bold.nii.gz of 155\n",
      "finished /home/tjays/nilearn_data/development_fmri/development_fmri/sub-pixar124_task-pixar_space-MNI152NLin2009cAsym_desc-preproc_bold.nii.gz of 155\n",
      "finished /home/tjays/nilearn_data/development_fmri/development_fmri/sub-pixar125_task-pixar_space-MNI152NLin2009cAsym_desc-preproc_bold.nii.gz of 155\n",
      "finished /home/tjays/nilearn_data/development_fmri/development_fmri/sub-pixar126_task-pixar_space-MNI152NLin2009cAsym_desc-preproc_bold.nii.gz of 155\n",
      "finished /home/tjays/nilearn_data/development_fmri/development_fmri/sub-pixar127_task-pixar_space-MNI152NLin2009cAsym_desc-preproc_bold.nii.gz of 155\n",
      "finished /home/tjays/nilearn_data/development_fmri/development_fmri/sub-pixar128_task-pixar_space-MNI152NLin2009cAsym_desc-preproc_bold.nii.gz of 155\n",
      "finished /home/tjays/nilearn_data/development_fmri/development_fmri/sub-pixar129_task-pixar_space-MNI152NLin2009cAsym_desc-preproc_bold.nii.gz of 155\n",
      "finished /home/tjays/nilearn_data/development_fmri/development_fmri/sub-pixar130_task-pixar_space-MNI152NLin2009cAsym_desc-preproc_bold.nii.gz of 155\n",
      "finished /home/tjays/nilearn_data/development_fmri/development_fmri/sub-pixar131_task-pixar_space-MNI152NLin2009cAsym_desc-preproc_bold.nii.gz of 155\n",
      "finished /home/tjays/nilearn_data/development_fmri/development_fmri/sub-pixar132_task-pixar_space-MNI152NLin2009cAsym_desc-preproc_bold.nii.gz of 155\n",
      "finished /home/tjays/nilearn_data/development_fmri/development_fmri/sub-pixar133_task-pixar_space-MNI152NLin2009cAsym_desc-preproc_bold.nii.gz of 155\n",
      "finished /home/tjays/nilearn_data/development_fmri/development_fmri/sub-pixar134_task-pixar_space-MNI152NLin2009cAsym_desc-preproc_bold.nii.gz of 155\n",
      "finished /home/tjays/nilearn_data/development_fmri/development_fmri/sub-pixar135_task-pixar_space-MNI152NLin2009cAsym_desc-preproc_bold.nii.gz of 155\n",
      "finished /home/tjays/nilearn_data/development_fmri/development_fmri/sub-pixar136_task-pixar_space-MNI152NLin2009cAsym_desc-preproc_bold.nii.gz of 155\n",
      "finished /home/tjays/nilearn_data/development_fmri/development_fmri/sub-pixar137_task-pixar_space-MNI152NLin2009cAsym_desc-preproc_bold.nii.gz of 155\n",
      "finished /home/tjays/nilearn_data/development_fmri/development_fmri/sub-pixar138_task-pixar_space-MNI152NLin2009cAsym_desc-preproc_bold.nii.gz of 155\n",
      "finished /home/tjays/nilearn_data/development_fmri/development_fmri/sub-pixar139_task-pixar_space-MNI152NLin2009cAsym_desc-preproc_bold.nii.gz of 155\n",
      "finished /home/tjays/nilearn_data/development_fmri/development_fmri/sub-pixar140_task-pixar_space-MNI152NLin2009cAsym_desc-preproc_bold.nii.gz of 155\n",
      "finished /home/tjays/nilearn_data/development_fmri/development_fmri/sub-pixar141_task-pixar_space-MNI152NLin2009cAsym_desc-preproc_bold.nii.gz of 155\n",
      "finished /home/tjays/nilearn_data/development_fmri/development_fmri/sub-pixar142_task-pixar_space-MNI152NLin2009cAsym_desc-preproc_bold.nii.gz of 155\n",
      "finished /home/tjays/nilearn_data/development_fmri/development_fmri/sub-pixar143_task-pixar_space-MNI152NLin2009cAsym_desc-preproc_bold.nii.gz of 155\n",
      "finished /home/tjays/nilearn_data/development_fmri/development_fmri/sub-pixar144_task-pixar_space-MNI152NLin2009cAsym_desc-preproc_bold.nii.gz of 155\n",
      "finished /home/tjays/nilearn_data/development_fmri/development_fmri/sub-pixar145_task-pixar_space-MNI152NLin2009cAsym_desc-preproc_bold.nii.gz of 155\n",
      "finished /home/tjays/nilearn_data/development_fmri/development_fmri/sub-pixar146_task-pixar_space-MNI152NLin2009cAsym_desc-preproc_bold.nii.gz of 155\n",
      "finished /home/tjays/nilearn_data/development_fmri/development_fmri/sub-pixar147_task-pixar_space-MNI152NLin2009cAsym_desc-preproc_bold.nii.gz of 155\n",
      "finished /home/tjays/nilearn_data/development_fmri/development_fmri/sub-pixar148_task-pixar_space-MNI152NLin2009cAsym_desc-preproc_bold.nii.gz of 155\n",
      "finished /home/tjays/nilearn_data/development_fmri/development_fmri/sub-pixar149_task-pixar_space-MNI152NLin2009cAsym_desc-preproc_bold.nii.gz of 155\n",
      "finished /home/tjays/nilearn_data/development_fmri/development_fmri/sub-pixar150_task-pixar_space-MNI152NLin2009cAsym_desc-preproc_bold.nii.gz of 155\n",
      "finished /home/tjays/nilearn_data/development_fmri/development_fmri/sub-pixar151_task-pixar_space-MNI152NLin2009cAsym_desc-preproc_bold.nii.gz of 155\n",
      "finished /home/tjays/nilearn_data/development_fmri/development_fmri/sub-pixar152_task-pixar_space-MNI152NLin2009cAsym_desc-preproc_bold.nii.gz of 155\n",
      "finished /home/tjays/nilearn_data/development_fmri/development_fmri/sub-pixar153_task-pixar_space-MNI152NLin2009cAsym_desc-preproc_bold.nii.gz of 155\n",
      "finished /home/tjays/nilearn_data/development_fmri/development_fmri/sub-pixar154_task-pixar_space-MNI152NLin2009cAsym_desc-preproc_bold.nii.gz of 155\n",
      "finished /home/tjays/nilearn_data/development_fmri/development_fmri/sub-pixar155_task-pixar_space-MNI152NLin2009cAsym_desc-preproc_bold.nii.gz of 155\n",
      "finished /home/tjays/nilearn_data/development_fmri/development_fmri/sub-pixar001_task-pixar_space-MNI152NLin2009cAsym_desc-preproc_bold.nii.gz of 155\n",
      "finished /home/tjays/nilearn_data/development_fmri/development_fmri/sub-pixar002_task-pixar_space-MNI152NLin2009cAsym_desc-preproc_bold.nii.gz of 155\n",
      "finished /home/tjays/nilearn_data/development_fmri/development_fmri/sub-pixar003_task-pixar_space-MNI152NLin2009cAsym_desc-preproc_bold.nii.gz of 155\n",
      "finished /home/tjays/nilearn_data/development_fmri/development_fmri/sub-pixar004_task-pixar_space-MNI152NLin2009cAsym_desc-preproc_bold.nii.gz of 155\n",
      "finished /home/tjays/nilearn_data/development_fmri/development_fmri/sub-pixar005_task-pixar_space-MNI152NLin2009cAsym_desc-preproc_bold.nii.gz of 155\n",
      "finished /home/tjays/nilearn_data/development_fmri/development_fmri/sub-pixar006_task-pixar_space-MNI152NLin2009cAsym_desc-preproc_bold.nii.gz of 155\n",
      "finished /home/tjays/nilearn_data/development_fmri/development_fmri/sub-pixar007_task-pixar_space-MNI152NLin2009cAsym_desc-preproc_bold.nii.gz of 155\n",
      "finished /home/tjays/nilearn_data/development_fmri/development_fmri/sub-pixar008_task-pixar_space-MNI152NLin2009cAsym_desc-preproc_bold.nii.gz of 155\n",
      "finished /home/tjays/nilearn_data/development_fmri/development_fmri/sub-pixar009_task-pixar_space-MNI152NLin2009cAsym_desc-preproc_bold.nii.gz of 155\n",
      "finished /home/tjays/nilearn_data/development_fmri/development_fmri/sub-pixar010_task-pixar_space-MNI152NLin2009cAsym_desc-preproc_bold.nii.gz of 155\n",
      "finished /home/tjays/nilearn_data/development_fmri/development_fmri/sub-pixar011_task-pixar_space-MNI152NLin2009cAsym_desc-preproc_bold.nii.gz of 155\n",
      "finished /home/tjays/nilearn_data/development_fmri/development_fmri/sub-pixar012_task-pixar_space-MNI152NLin2009cAsym_desc-preproc_bold.nii.gz of 155\n",
      "finished /home/tjays/nilearn_data/development_fmri/development_fmri/sub-pixar013_task-pixar_space-MNI152NLin2009cAsym_desc-preproc_bold.nii.gz of 155\n",
      "finished /home/tjays/nilearn_data/development_fmri/development_fmri/sub-pixar014_task-pixar_space-MNI152NLin2009cAsym_desc-preproc_bold.nii.gz of 155\n",
      "finished /home/tjays/nilearn_data/development_fmri/development_fmri/sub-pixar015_task-pixar_space-MNI152NLin2009cAsym_desc-preproc_bold.nii.gz of 155\n",
      "finished /home/tjays/nilearn_data/development_fmri/development_fmri/sub-pixar016_task-pixar_space-MNI152NLin2009cAsym_desc-preproc_bold.nii.gz of 155\n",
      "finished /home/tjays/nilearn_data/development_fmri/development_fmri/sub-pixar017_task-pixar_space-MNI152NLin2009cAsym_desc-preproc_bold.nii.gz of 155\n",
      "finished /home/tjays/nilearn_data/development_fmri/development_fmri/sub-pixar018_task-pixar_space-MNI152NLin2009cAsym_desc-preproc_bold.nii.gz of 155\n",
      "finished /home/tjays/nilearn_data/development_fmri/development_fmri/sub-pixar019_task-pixar_space-MNI152NLin2009cAsym_desc-preproc_bold.nii.gz of 155\n",
      "finished /home/tjays/nilearn_data/development_fmri/development_fmri/sub-pixar020_task-pixar_space-MNI152NLin2009cAsym_desc-preproc_bold.nii.gz of 155\n",
      "finished /home/tjays/nilearn_data/development_fmri/development_fmri/sub-pixar021_task-pixar_space-MNI152NLin2009cAsym_desc-preproc_bold.nii.gz of 155\n",
      "finished /home/tjays/nilearn_data/development_fmri/development_fmri/sub-pixar022_task-pixar_space-MNI152NLin2009cAsym_desc-preproc_bold.nii.gz of 155\n"
     ]
    },
    {
     "name": "stdout",
     "output_type": "stream",
     "text": [
      "finished /home/tjays/nilearn_data/development_fmri/development_fmri/sub-pixar023_task-pixar_space-MNI152NLin2009cAsym_desc-preproc_bold.nii.gz of 155\n",
      "finished /home/tjays/nilearn_data/development_fmri/development_fmri/sub-pixar024_task-pixar_space-MNI152NLin2009cAsym_desc-preproc_bold.nii.gz of 155\n",
      "finished /home/tjays/nilearn_data/development_fmri/development_fmri/sub-pixar025_task-pixar_space-MNI152NLin2009cAsym_desc-preproc_bold.nii.gz of 155\n",
      "finished /home/tjays/nilearn_data/development_fmri/development_fmri/sub-pixar026_task-pixar_space-MNI152NLin2009cAsym_desc-preproc_bold.nii.gz of 155\n",
      "finished /home/tjays/nilearn_data/development_fmri/development_fmri/sub-pixar027_task-pixar_space-MNI152NLin2009cAsym_desc-preproc_bold.nii.gz of 155\n",
      "finished /home/tjays/nilearn_data/development_fmri/development_fmri/sub-pixar028_task-pixar_space-MNI152NLin2009cAsym_desc-preproc_bold.nii.gz of 155\n",
      "finished /home/tjays/nilearn_data/development_fmri/development_fmri/sub-pixar029_task-pixar_space-MNI152NLin2009cAsym_desc-preproc_bold.nii.gz of 155\n",
      "finished /home/tjays/nilearn_data/development_fmri/development_fmri/sub-pixar030_task-pixar_space-MNI152NLin2009cAsym_desc-preproc_bold.nii.gz of 155\n",
      "finished /home/tjays/nilearn_data/development_fmri/development_fmri/sub-pixar031_task-pixar_space-MNI152NLin2009cAsym_desc-preproc_bold.nii.gz of 155\n",
      "finished /home/tjays/nilearn_data/development_fmri/development_fmri/sub-pixar032_task-pixar_space-MNI152NLin2009cAsym_desc-preproc_bold.nii.gz of 155\n",
      "finished /home/tjays/nilearn_data/development_fmri/development_fmri/sub-pixar033_task-pixar_space-MNI152NLin2009cAsym_desc-preproc_bold.nii.gz of 155\n",
      "finished /home/tjays/nilearn_data/development_fmri/development_fmri/sub-pixar034_task-pixar_space-MNI152NLin2009cAsym_desc-preproc_bold.nii.gz of 155\n",
      "finished /home/tjays/nilearn_data/development_fmri/development_fmri/sub-pixar035_task-pixar_space-MNI152NLin2009cAsym_desc-preproc_bold.nii.gz of 155\n",
      "finished /home/tjays/nilearn_data/development_fmri/development_fmri/sub-pixar036_task-pixar_space-MNI152NLin2009cAsym_desc-preproc_bold.nii.gz of 155\n",
      "finished /home/tjays/nilearn_data/development_fmri/development_fmri/sub-pixar037_task-pixar_space-MNI152NLin2009cAsym_desc-preproc_bold.nii.gz of 155\n",
      "finished /home/tjays/nilearn_data/development_fmri/development_fmri/sub-pixar038_task-pixar_space-MNI152NLin2009cAsym_desc-preproc_bold.nii.gz of 155\n",
      "finished /home/tjays/nilearn_data/development_fmri/development_fmri/sub-pixar039_task-pixar_space-MNI152NLin2009cAsym_desc-preproc_bold.nii.gz of 155\n",
      "finished /home/tjays/nilearn_data/development_fmri/development_fmri/sub-pixar040_task-pixar_space-MNI152NLin2009cAsym_desc-preproc_bold.nii.gz of 155\n",
      "finished /home/tjays/nilearn_data/development_fmri/development_fmri/sub-pixar041_task-pixar_space-MNI152NLin2009cAsym_desc-preproc_bold.nii.gz of 155\n",
      "finished /home/tjays/nilearn_data/development_fmri/development_fmri/sub-pixar042_task-pixar_space-MNI152NLin2009cAsym_desc-preproc_bold.nii.gz of 155\n",
      "finished /home/tjays/nilearn_data/development_fmri/development_fmri/sub-pixar043_task-pixar_space-MNI152NLin2009cAsym_desc-preproc_bold.nii.gz of 155\n",
      "finished /home/tjays/nilearn_data/development_fmri/development_fmri/sub-pixar044_task-pixar_space-MNI152NLin2009cAsym_desc-preproc_bold.nii.gz of 155\n",
      "finished /home/tjays/nilearn_data/development_fmri/development_fmri/sub-pixar045_task-pixar_space-MNI152NLin2009cAsym_desc-preproc_bold.nii.gz of 155\n",
      "finished /home/tjays/nilearn_data/development_fmri/development_fmri/sub-pixar046_task-pixar_space-MNI152NLin2009cAsym_desc-preproc_bold.nii.gz of 155\n",
      "finished /home/tjays/nilearn_data/development_fmri/development_fmri/sub-pixar047_task-pixar_space-MNI152NLin2009cAsym_desc-preproc_bold.nii.gz of 155\n",
      "finished /home/tjays/nilearn_data/development_fmri/development_fmri/sub-pixar048_task-pixar_space-MNI152NLin2009cAsym_desc-preproc_bold.nii.gz of 155\n",
      "finished /home/tjays/nilearn_data/development_fmri/development_fmri/sub-pixar049_task-pixar_space-MNI152NLin2009cAsym_desc-preproc_bold.nii.gz of 155\n",
      "finished /home/tjays/nilearn_data/development_fmri/development_fmri/sub-pixar050_task-pixar_space-MNI152NLin2009cAsym_desc-preproc_bold.nii.gz of 155\n",
      "finished /home/tjays/nilearn_data/development_fmri/development_fmri/sub-pixar051_task-pixar_space-MNI152NLin2009cAsym_desc-preproc_bold.nii.gz of 155\n",
      "finished /home/tjays/nilearn_data/development_fmri/development_fmri/sub-pixar052_task-pixar_space-MNI152NLin2009cAsym_desc-preproc_bold.nii.gz of 155\n",
      "finished /home/tjays/nilearn_data/development_fmri/development_fmri/sub-pixar053_task-pixar_space-MNI152NLin2009cAsym_desc-preproc_bold.nii.gz of 155\n",
      "finished /home/tjays/nilearn_data/development_fmri/development_fmri/sub-pixar054_task-pixar_space-MNI152NLin2009cAsym_desc-preproc_bold.nii.gz of 155\n",
      "finished /home/tjays/nilearn_data/development_fmri/development_fmri/sub-pixar055_task-pixar_space-MNI152NLin2009cAsym_desc-preproc_bold.nii.gz of 155\n",
      "finished /home/tjays/nilearn_data/development_fmri/development_fmri/sub-pixar056_task-pixar_space-MNI152NLin2009cAsym_desc-preproc_bold.nii.gz of 155\n",
      "finished /home/tjays/nilearn_data/development_fmri/development_fmri/sub-pixar057_task-pixar_space-MNI152NLin2009cAsym_desc-preproc_bold.nii.gz of 155\n",
      "finished /home/tjays/nilearn_data/development_fmri/development_fmri/sub-pixar058_task-pixar_space-MNI152NLin2009cAsym_desc-preproc_bold.nii.gz of 155\n",
      "finished /home/tjays/nilearn_data/development_fmri/development_fmri/sub-pixar059_task-pixar_space-MNI152NLin2009cAsym_desc-preproc_bold.nii.gz of 155\n",
      "finished /home/tjays/nilearn_data/development_fmri/development_fmri/sub-pixar060_task-pixar_space-MNI152NLin2009cAsym_desc-preproc_bold.nii.gz of 155\n",
      "finished /home/tjays/nilearn_data/development_fmri/development_fmri/sub-pixar061_task-pixar_space-MNI152NLin2009cAsym_desc-preproc_bold.nii.gz of 155\n",
      "finished /home/tjays/nilearn_data/development_fmri/development_fmri/sub-pixar062_task-pixar_space-MNI152NLin2009cAsym_desc-preproc_bold.nii.gz of 155\n",
      "finished /home/tjays/nilearn_data/development_fmri/development_fmri/sub-pixar063_task-pixar_space-MNI152NLin2009cAsym_desc-preproc_bold.nii.gz of 155\n",
      "finished /home/tjays/nilearn_data/development_fmri/development_fmri/sub-pixar064_task-pixar_space-MNI152NLin2009cAsym_desc-preproc_bold.nii.gz of 155\n",
      "finished /home/tjays/nilearn_data/development_fmri/development_fmri/sub-pixar065_task-pixar_space-MNI152NLin2009cAsym_desc-preproc_bold.nii.gz of 155\n",
      "finished /home/tjays/nilearn_data/development_fmri/development_fmri/sub-pixar066_task-pixar_space-MNI152NLin2009cAsym_desc-preproc_bold.nii.gz of 155\n",
      "finished /home/tjays/nilearn_data/development_fmri/development_fmri/sub-pixar067_task-pixar_space-MNI152NLin2009cAsym_desc-preproc_bold.nii.gz of 155\n",
      "finished /home/tjays/nilearn_data/development_fmri/development_fmri/sub-pixar068_task-pixar_space-MNI152NLin2009cAsym_desc-preproc_bold.nii.gz of 155\n",
      "finished /home/tjays/nilearn_data/development_fmri/development_fmri/sub-pixar069_task-pixar_space-MNI152NLin2009cAsym_desc-preproc_bold.nii.gz of 155\n",
      "finished /home/tjays/nilearn_data/development_fmri/development_fmri/sub-pixar070_task-pixar_space-MNI152NLin2009cAsym_desc-preproc_bold.nii.gz of 155\n",
      "finished /home/tjays/nilearn_data/development_fmri/development_fmri/sub-pixar071_task-pixar_space-MNI152NLin2009cAsym_desc-preproc_bold.nii.gz of 155\n",
      "finished /home/tjays/nilearn_data/development_fmri/development_fmri/sub-pixar072_task-pixar_space-MNI152NLin2009cAsym_desc-preproc_bold.nii.gz of 155\n",
      "finished /home/tjays/nilearn_data/development_fmri/development_fmri/sub-pixar073_task-pixar_space-MNI152NLin2009cAsym_desc-preproc_bold.nii.gz of 155\n",
      "finished /home/tjays/nilearn_data/development_fmri/development_fmri/sub-pixar074_task-pixar_space-MNI152NLin2009cAsym_desc-preproc_bold.nii.gz of 155\n",
      "finished /home/tjays/nilearn_data/development_fmri/development_fmri/sub-pixar075_task-pixar_space-MNI152NLin2009cAsym_desc-preproc_bold.nii.gz of 155\n",
      "finished /home/tjays/nilearn_data/development_fmri/development_fmri/sub-pixar076_task-pixar_space-MNI152NLin2009cAsym_desc-preproc_bold.nii.gz of 155\n",
      "finished /home/tjays/nilearn_data/development_fmri/development_fmri/sub-pixar077_task-pixar_space-MNI152NLin2009cAsym_desc-preproc_bold.nii.gz of 155\n"
     ]
    },
    {
     "name": "stdout",
     "output_type": "stream",
     "text": [
      "finished /home/tjays/nilearn_data/development_fmri/development_fmri/sub-pixar078_task-pixar_space-MNI152NLin2009cAsym_desc-preproc_bold.nii.gz of 155\n",
      "finished /home/tjays/nilearn_data/development_fmri/development_fmri/sub-pixar079_task-pixar_space-MNI152NLin2009cAsym_desc-preproc_bold.nii.gz of 155\n",
      "finished /home/tjays/nilearn_data/development_fmri/development_fmri/sub-pixar080_task-pixar_space-MNI152NLin2009cAsym_desc-preproc_bold.nii.gz of 155\n",
      "finished /home/tjays/nilearn_data/development_fmri/development_fmri/sub-pixar081_task-pixar_space-MNI152NLin2009cAsym_desc-preproc_bold.nii.gz of 155\n",
      "finished /home/tjays/nilearn_data/development_fmri/development_fmri/sub-pixar082_task-pixar_space-MNI152NLin2009cAsym_desc-preproc_bold.nii.gz of 155\n",
      "finished /home/tjays/nilearn_data/development_fmri/development_fmri/sub-pixar083_task-pixar_space-MNI152NLin2009cAsym_desc-preproc_bold.nii.gz of 155\n",
      "finished /home/tjays/nilearn_data/development_fmri/development_fmri/sub-pixar084_task-pixar_space-MNI152NLin2009cAsym_desc-preproc_bold.nii.gz of 155\n",
      "finished /home/tjays/nilearn_data/development_fmri/development_fmri/sub-pixar085_task-pixar_space-MNI152NLin2009cAsym_desc-preproc_bold.nii.gz of 155\n",
      "finished /home/tjays/nilearn_data/development_fmri/development_fmri/sub-pixar086_task-pixar_space-MNI152NLin2009cAsym_desc-preproc_bold.nii.gz of 155\n",
      "finished /home/tjays/nilearn_data/development_fmri/development_fmri/sub-pixar087_task-pixar_space-MNI152NLin2009cAsym_desc-preproc_bold.nii.gz of 155\n",
      "finished /home/tjays/nilearn_data/development_fmri/development_fmri/sub-pixar088_task-pixar_space-MNI152NLin2009cAsym_desc-preproc_bold.nii.gz of 155\n",
      "finished /home/tjays/nilearn_data/development_fmri/development_fmri/sub-pixar089_task-pixar_space-MNI152NLin2009cAsym_desc-preproc_bold.nii.gz of 155\n",
      "finished /home/tjays/nilearn_data/development_fmri/development_fmri/sub-pixar090_task-pixar_space-MNI152NLin2009cAsym_desc-preproc_bold.nii.gz of 155\n",
      "finished /home/tjays/nilearn_data/development_fmri/development_fmri/sub-pixar091_task-pixar_space-MNI152NLin2009cAsym_desc-preproc_bold.nii.gz of 155\n",
      "finished /home/tjays/nilearn_data/development_fmri/development_fmri/sub-pixar092_task-pixar_space-MNI152NLin2009cAsym_desc-preproc_bold.nii.gz of 155\n",
      "finished /home/tjays/nilearn_data/development_fmri/development_fmri/sub-pixar093_task-pixar_space-MNI152NLin2009cAsym_desc-preproc_bold.nii.gz of 155\n",
      "finished /home/tjays/nilearn_data/development_fmri/development_fmri/sub-pixar094_task-pixar_space-MNI152NLin2009cAsym_desc-preproc_bold.nii.gz of 155\n",
      "finished /home/tjays/nilearn_data/development_fmri/development_fmri/sub-pixar095_task-pixar_space-MNI152NLin2009cAsym_desc-preproc_bold.nii.gz of 155\n",
      "finished /home/tjays/nilearn_data/development_fmri/development_fmri/sub-pixar096_task-pixar_space-MNI152NLin2009cAsym_desc-preproc_bold.nii.gz of 155\n",
      "finished /home/tjays/nilearn_data/development_fmri/development_fmri/sub-pixar097_task-pixar_space-MNI152NLin2009cAsym_desc-preproc_bold.nii.gz of 155\n",
      "finished /home/tjays/nilearn_data/development_fmri/development_fmri/sub-pixar098_task-pixar_space-MNI152NLin2009cAsym_desc-preproc_bold.nii.gz of 155\n",
      "finished /home/tjays/nilearn_data/development_fmri/development_fmri/sub-pixar099_task-pixar_space-MNI152NLin2009cAsym_desc-preproc_bold.nii.gz of 155\n",
      "finished /home/tjays/nilearn_data/development_fmri/development_fmri/sub-pixar100_task-pixar_space-MNI152NLin2009cAsym_desc-preproc_bold.nii.gz of 155\n",
      "finished /home/tjays/nilearn_data/development_fmri/development_fmri/sub-pixar101_task-pixar_space-MNI152NLin2009cAsym_desc-preproc_bold.nii.gz of 155\n",
      "finished /home/tjays/nilearn_data/development_fmri/development_fmri/sub-pixar102_task-pixar_space-MNI152NLin2009cAsym_desc-preproc_bold.nii.gz of 155\n",
      "finished /home/tjays/nilearn_data/development_fmri/development_fmri/sub-pixar103_task-pixar_space-MNI152NLin2009cAsym_desc-preproc_bold.nii.gz of 155\n",
      "finished /home/tjays/nilearn_data/development_fmri/development_fmri/sub-pixar104_task-pixar_space-MNI152NLin2009cAsym_desc-preproc_bold.nii.gz of 155\n",
      "finished /home/tjays/nilearn_data/development_fmri/development_fmri/sub-pixar105_task-pixar_space-MNI152NLin2009cAsym_desc-preproc_bold.nii.gz of 155\n",
      "finished /home/tjays/nilearn_data/development_fmri/development_fmri/sub-pixar106_task-pixar_space-MNI152NLin2009cAsym_desc-preproc_bold.nii.gz of 155\n",
      "finished /home/tjays/nilearn_data/development_fmri/development_fmri/sub-pixar107_task-pixar_space-MNI152NLin2009cAsym_desc-preproc_bold.nii.gz of 155\n",
      "finished /home/tjays/nilearn_data/development_fmri/development_fmri/sub-pixar108_task-pixar_space-MNI152NLin2009cAsym_desc-preproc_bold.nii.gz of 155\n",
      "finished /home/tjays/nilearn_data/development_fmri/development_fmri/sub-pixar109_task-pixar_space-MNI152NLin2009cAsym_desc-preproc_bold.nii.gz of 155\n",
      "finished /home/tjays/nilearn_data/development_fmri/development_fmri/sub-pixar110_task-pixar_space-MNI152NLin2009cAsym_desc-preproc_bold.nii.gz of 155\n",
      "finished /home/tjays/nilearn_data/development_fmri/development_fmri/sub-pixar111_task-pixar_space-MNI152NLin2009cAsym_desc-preproc_bold.nii.gz of 155\n",
      "finished /home/tjays/nilearn_data/development_fmri/development_fmri/sub-pixar112_task-pixar_space-MNI152NLin2009cAsym_desc-preproc_bold.nii.gz of 155\n",
      "finished /home/tjays/nilearn_data/development_fmri/development_fmri/sub-pixar113_task-pixar_space-MNI152NLin2009cAsym_desc-preproc_bold.nii.gz of 155\n",
      "finished /home/tjays/nilearn_data/development_fmri/development_fmri/sub-pixar114_task-pixar_space-MNI152NLin2009cAsym_desc-preproc_bold.nii.gz of 155\n",
      "finished /home/tjays/nilearn_data/development_fmri/development_fmri/sub-pixar115_task-pixar_space-MNI152NLin2009cAsym_desc-preproc_bold.nii.gz of 155\n",
      "finished /home/tjays/nilearn_data/development_fmri/development_fmri/sub-pixar116_task-pixar_space-MNI152NLin2009cAsym_desc-preproc_bold.nii.gz of 155\n",
      "finished /home/tjays/nilearn_data/development_fmri/development_fmri/sub-pixar117_task-pixar_space-MNI152NLin2009cAsym_desc-preproc_bold.nii.gz of 155\n",
      "finished /home/tjays/nilearn_data/development_fmri/development_fmri/sub-pixar118_task-pixar_space-MNI152NLin2009cAsym_desc-preproc_bold.nii.gz of 155\n",
      "finished /home/tjays/nilearn_data/development_fmri/development_fmri/sub-pixar119_task-pixar_space-MNI152NLin2009cAsym_desc-preproc_bold.nii.gz of 155\n",
      "finished /home/tjays/nilearn_data/development_fmri/development_fmri/sub-pixar120_task-pixar_space-MNI152NLin2009cAsym_desc-preproc_bold.nii.gz of 155\n",
      "finished /home/tjays/nilearn_data/development_fmri/development_fmri/sub-pixar121_task-pixar_space-MNI152NLin2009cAsym_desc-preproc_bold.nii.gz of 155\n",
      "finished /home/tjays/nilearn_data/development_fmri/development_fmri/sub-pixar122_task-pixar_space-MNI152NLin2009cAsym_desc-preproc_bold.nii.gz of 155\n"
     ]
    }
   ],
   "source": [
    "all_features = [] # here is where we will put the data (a container)\n",
    "\n",
    "# Iterate through all participants\n",
    "for (func, confounds) in zip(data.func, data.confounds):\n",
    "    # extract the timeseries from the ROIs in the atlas\n",
    "    time_series = masker.fit_transform(func, confounds)\n",
    "    # create a region x region correlation matrix\n",
    "    correlation_matrix = correlation_measure.fit_transform([time_series])[0]\n",
    "\n",
    "    # add to our container\n",
    "    all_features.append(correlation_matrix)\n",
    "    # keep track of status\n",
    "    print('finished %s of %s'%(func,len(data.func)))"
   ]
  },
  {
   "cell_type": "code",
   "execution_count": 40,
   "metadata": {},
   "outputs": [],
   "source": [
    "# Let's save the data to disk\n",
    "import numpy as np\n",
    "\n",
    "np.savez_compressed('MAIN_BASC064_subsamp_features',a = all_features)"
   ]
  },
  {
   "cell_type": "code",
   "execution_count": 44,
   "metadata": {},
   "outputs": [
    {
     "ename": "FileNotFoundError",
     "evalue": "[Errno 2] No such file or directory: './MAIN2019_BASC064_subsamp_features.npz'",
     "output_type": "error",
     "traceback": [
      "\u001b[0;31m---------------------------------------------------------------------------\u001b[0m",
      "\u001b[0;31mFileNotFoundError\u001b[0m                         Traceback (most recent call last)",
      "\u001b[0;32m<ipython-input-44-ce81df4ae473>\u001b[0m in \u001b[0;36m<module>\u001b[0;34m\u001b[0m\n\u001b[1;32m      3\u001b[0m \u001b[0;34m\u001b[0m\u001b[0m\n\u001b[1;32m      4\u001b[0m \u001b[0mfeat_file\u001b[0m \u001b[0;34m=\u001b[0m \u001b[0mos\u001b[0m\u001b[0;34m.\u001b[0m\u001b[0mpath\u001b[0m\u001b[0;34m.\u001b[0m\u001b[0mjoin\u001b[0m\u001b[0;34m(\u001b[0m\u001b[0mos\u001b[0m\u001b[0;34m.\u001b[0m\u001b[0mcurdir\u001b[0m\u001b[0;34m,\u001b[0m \u001b[0;34m'MAIN2019_BASC064_subsamp_features.npz'\u001b[0m\u001b[0;34m)\u001b[0m\u001b[0;34m\u001b[0m\u001b[0;34m\u001b[0m\u001b[0m\n\u001b[0;32m----> 5\u001b[0;31m \u001b[0mX_features\u001b[0m \u001b[0;34m=\u001b[0m \u001b[0mnp\u001b[0m\u001b[0;34m.\u001b[0m\u001b[0mload\u001b[0m\u001b[0;34m(\u001b[0m\u001b[0mfeat_file\u001b[0m\u001b[0;34m)\u001b[0m\u001b[0;34m[\u001b[0m\u001b[0;34m'a'\u001b[0m\u001b[0;34m]\u001b[0m\u001b[0;34m\u001b[0m\u001b[0;34m\u001b[0m\u001b[0m\n\u001b[0m",
      "\u001b[0;32m~/miniconda3/lib/python3.7/site-packages/numpy/lib/npyio.py\u001b[0m in \u001b[0;36mload\u001b[0;34m(file, mmap_mode, allow_pickle, fix_imports, encoding)\u001b[0m\n\u001b[1;32m    420\u001b[0m         \u001b[0mown_fid\u001b[0m \u001b[0;34m=\u001b[0m \u001b[0;32mFalse\u001b[0m\u001b[0;34m\u001b[0m\u001b[0;34m\u001b[0m\u001b[0m\n\u001b[1;32m    421\u001b[0m     \u001b[0;32melse\u001b[0m\u001b[0;34m:\u001b[0m\u001b[0;34m\u001b[0m\u001b[0;34m\u001b[0m\u001b[0m\n\u001b[0;32m--> 422\u001b[0;31m         \u001b[0mfid\u001b[0m \u001b[0;34m=\u001b[0m \u001b[0mopen\u001b[0m\u001b[0;34m(\u001b[0m\u001b[0mos_fspath\u001b[0m\u001b[0;34m(\u001b[0m\u001b[0mfile\u001b[0m\u001b[0;34m)\u001b[0m\u001b[0;34m,\u001b[0m \u001b[0;34m\"rb\"\u001b[0m\u001b[0;34m)\u001b[0m\u001b[0;34m\u001b[0m\u001b[0;34m\u001b[0m\u001b[0m\n\u001b[0m\u001b[1;32m    423\u001b[0m         \u001b[0mown_fid\u001b[0m \u001b[0;34m=\u001b[0m \u001b[0;32mTrue\u001b[0m\u001b[0;34m\u001b[0m\u001b[0;34m\u001b[0m\u001b[0m\n\u001b[1;32m    424\u001b[0m \u001b[0;34m\u001b[0m\u001b[0m\n",
      "\u001b[0;31mFileNotFoundError\u001b[0m: [Errno 2] No such file or directory: './MAIN2019_BASC064_subsamp_features.npz'"
     ]
    }
   ],
   "source": [
    "import os\n",
    "\n",
    "\n",
    "feat_file = os.path.join(os.curdir, 'MAIN2019_BASC064_subsamp_features.npz')\n",
    "X_features = np.load(feat_file)['a']"
   ]
  },
  {
   "cell_type": "code",
   "execution_count": null,
   "metadata": {
    "collapsed": true
   },
   "outputs": [],
   "source": []
  },
  {
   "cell_type": "code",
   "execution_count": 42,
   "metadata": {},
   "outputs": [
    {
     "ename": "NameError",
     "evalue": "name 'X_features' is not defined",
     "output_type": "error",
     "traceback": [
      "\u001b[0;31m---------------------------------------------------------------------------\u001b[0m",
      "\u001b[0;31mNameError\u001b[0m                                 Traceback (most recent call last)",
      "\u001b[0;32m<ipython-input-42-c9634a776241>\u001b[0m in \u001b[0;36m<module>\u001b[0;34m\u001b[0m\n\u001b[0;32m----> 1\u001b[0;31m \u001b[0mX_features\u001b[0m\u001b[0;34m.\u001b[0m\u001b[0mshape\u001b[0m\u001b[0;34m\u001b[0m\u001b[0;34m\u001b[0m\u001b[0m\n\u001b[0m",
      "\u001b[0;31mNameError\u001b[0m: name 'X_features' is not defined"
     ]
    }
   ],
   "source": [
    "X_features.shape"
   ]
  },
  {
   "cell_type": "code",
   "execution_count": null,
   "metadata": {},
   "outputs": [],
   "source": [
    "import matplotlib.pyplot as plt\n",
    "\n",
    "plt.imshow(X_features, aspect='auto')\n",
    "plt.colorbar()\n",
    "plt.title('feature matrix')\n",
    "plt.xlabel('features')\n",
    "plt.ylabel('subjects')"
   ]
  },
  {
   "cell_type": "code",
   "execution_count": 39,
   "metadata": {},
   "outputs": [
    {
     "data": {
      "text/html": [
       "<div>\n",
       "<style scoped>\n",
       "    .dataframe tbody tr th:only-of-type {\n",
       "        vertical-align: middle;\n",
       "    }\n",
       "\n",
       "    .dataframe tbody tr th {\n",
       "        vertical-align: top;\n",
       "    }\n",
       "\n",
       "    .dataframe thead th {\n",
       "        text-align: right;\n",
       "    }\n",
       "</style>\n",
       "<table border=\"1\" class=\"dataframe\">\n",
       "  <thead>\n",
       "    <tr style=\"text-align: right;\">\n",
       "      <th></th>\n",
       "      <th>participant_id</th>\n",
       "      <th>Age</th>\n",
       "      <th>AgeGroup</th>\n",
       "      <th>Child_Adult</th>\n",
       "      <th>Gender</th>\n",
       "      <th>Handedness</th>\n",
       "    </tr>\n",
       "  </thead>\n",
       "  <tbody>\n",
       "    <tr>\n",
       "      <th>0</th>\n",
       "      <td>sub-pixar123</td>\n",
       "      <td>27.06</td>\n",
       "      <td>Adult</td>\n",
       "      <td>adult</td>\n",
       "      <td>F</td>\n",
       "      <td>R</td>\n",
       "    </tr>\n",
       "    <tr>\n",
       "      <th>1</th>\n",
       "      <td>sub-pixar124</td>\n",
       "      <td>33.44</td>\n",
       "      <td>Adult</td>\n",
       "      <td>adult</td>\n",
       "      <td>M</td>\n",
       "      <td>R</td>\n",
       "    </tr>\n",
       "    <tr>\n",
       "      <th>2</th>\n",
       "      <td>sub-pixar125</td>\n",
       "      <td>31.00</td>\n",
       "      <td>Adult</td>\n",
       "      <td>adult</td>\n",
       "      <td>M</td>\n",
       "      <td>R</td>\n",
       "    </tr>\n",
       "    <tr>\n",
       "      <th>3</th>\n",
       "      <td>sub-pixar126</td>\n",
       "      <td>19.00</td>\n",
       "      <td>Adult</td>\n",
       "      <td>adult</td>\n",
       "      <td>F</td>\n",
       "      <td>R</td>\n",
       "    </tr>\n",
       "    <tr>\n",
       "      <th>4</th>\n",
       "      <td>sub-pixar127</td>\n",
       "      <td>23.00</td>\n",
       "      <td>Adult</td>\n",
       "      <td>adult</td>\n",
       "      <td>F</td>\n",
       "      <td>R</td>\n",
       "    </tr>\n",
       "  </tbody>\n",
       "</table>\n",
       "</div>"
      ],
      "text/plain": [
       "  participant_id    Age AgeGroup Child_Adult Gender Handedness\n",
       "0   sub-pixar123  27.06    Adult       adult      F          R\n",
       "1   sub-pixar124  33.44    Adult       adult      M          R\n",
       "2   sub-pixar125  31.00    Adult       adult      M          R\n",
       "3   sub-pixar126  19.00    Adult       adult      F          R\n",
       "4   sub-pixar127  23.00    Adult       adult      F          R"
      ]
     },
     "execution_count": 39,
     "metadata": {},
     "output_type": "execute_result"
    }
   ],
   "source": [
    "import pandas\n",
    "\n",
    "pheno = pandas.DataFrame(pheno)\n",
    "pheno.head()"
   ]
  },
  {
   "cell_type": "code",
   "execution_count": null,
   "metadata": {},
   "outputs": [],
   "source": []
  }
 ],
 "metadata": {
  "kernelspec": {
   "display_name": "Python 3",
   "language": "python",
   "name": "python3"
  },
  "language_info": {
   "codemirror_mode": {
    "name": "ipython",
    "version": 3
   },
   "file_extension": ".py",
   "mimetype": "text/x-python",
   "name": "python",
   "nbconvert_exporter": "python",
   "pygments_lexer": "ipython3",
   "version": "3.7.6"
  }
 },
 "nbformat": 4,
 "nbformat_minor": 2
}
